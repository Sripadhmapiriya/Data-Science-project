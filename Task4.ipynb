{
  "cells": [
    {
      "cell_type": "markdown",
      "metadata": {
        "id": "view-in-github",
        "colab_type": "text"
      },
      "source": [
        "<a href=\"https://colab.research.google.com/github/Sripadhmapiriya/Data-Science-project/blob/main/Task4.ipynb\" target=\"_parent\"><img src=\"https://colab.research.google.com/assets/colab-badge.svg\" alt=\"Open In Colab\"/></a>"
      ]
    },
    {
      "cell_type": "markdown",
      "id": "f44a2f2b",
      "metadata": {
        "id": "f44a2f2b"
      },
      "source": [
        "# 100 numpy exercises\n"
      ]
    },
    {
      "cell_type": "code",
      "source": [
        "from google.colab import drive\n",
        "drive.mount('/content/drive')"
      ],
      "metadata": {
        "id": "snBb93JSFNqh",
        "outputId": "842d6ed3-aecc-4d9f-87c5-94d39f76b7fd",
        "colab": {
          "base_uri": "https://localhost:8080/"
        }
      },
      "id": "snBb93JSFNqh",
      "execution_count": null,
      "outputs": [
        {
          "output_type": "stream",
          "name": "stdout",
          "text": [
            "Drive already mounted at /content/drive; to attempt to forcibly remount, call drive.mount(\"/content/drive\", force_remount=True).\n"
          ]
        }
      ]
    },
    {
      "cell_type": "markdown",
      "id": "0fe3d529",
      "metadata": {
        "id": "0fe3d529"
      },
      "source": [
        "File automatically generated. See the documentation to update questions/answers/hints programmatically."
      ]
    },
    {
      "cell_type": "markdown",
      "id": "23296a93",
      "metadata": {
        "id": "23296a93"
      },
      "source": [
        "Run the `initialize.py` module, then for each question you can query the\n",
        "answer or an hint with `hint(n)` or `answer(n)` for `n` question number."
      ]
    },
    {
      "cell_type": "code",
      "execution_count": null,
      "id": "530390cf",
      "metadata": {
        "id": "530390cf"
      },
      "outputs": [],
      "source": [
        "%run initialise.py"
      ]
    },
    {
      "cell_type": "markdown",
      "id": "96443564",
      "metadata": {
        "id": "96443564"
      },
      "source": [
        "#### 1. Import the numpy package under the name `np` (★☆☆)"
      ]
    },
    {
      "cell_type": "code",
      "execution_count": null,
      "id": "ffe1047e",
      "metadata": {
        "id": "ffe1047e"
      },
      "outputs": [],
      "source": [
        "import numpy as np"
      ]
    },
    {
      "cell_type": "markdown",
      "id": "c807bf1d",
      "metadata": {
        "id": "c807bf1d"
      },
      "source": [
        "#### 2. Print the numpy version and the configuration (★☆☆)"
      ]
    },
    {
      "cell_type": "code",
      "execution_count": null,
      "id": "f396b717",
      "metadata": {
        "id": "f396b717",
        "outputId": "a57448e9-733e-4919-b661-361f6a77aa67",
        "colab": {
          "base_uri": "https://localhost:8080/"
        }
      },
      "outputs": [
        {
          "output_type": "stream",
          "name": "stdout",
          "text": [
            "NumPy Version: 1.23.5\n",
            "\n",
            "NumPy Configuration:\n",
            "openblas64__info:\n",
            "    libraries = ['openblas64_', 'openblas64_']\n",
            "    library_dirs = ['/usr/local/lib']\n",
            "    language = c\n",
            "    define_macros = [('HAVE_CBLAS', None), ('BLAS_SYMBOL_SUFFIX', '64_'), ('HAVE_BLAS_ILP64', None)]\n",
            "    runtime_library_dirs = ['/usr/local/lib']\n",
            "blas_ilp64_opt_info:\n",
            "    libraries = ['openblas64_', 'openblas64_']\n",
            "    library_dirs = ['/usr/local/lib']\n",
            "    language = c\n",
            "    define_macros = [('HAVE_CBLAS', None), ('BLAS_SYMBOL_SUFFIX', '64_'), ('HAVE_BLAS_ILP64', None)]\n",
            "    runtime_library_dirs = ['/usr/local/lib']\n",
            "openblas64__lapack_info:\n",
            "    libraries = ['openblas64_', 'openblas64_']\n",
            "    library_dirs = ['/usr/local/lib']\n",
            "    language = c\n",
            "    define_macros = [('HAVE_CBLAS', None), ('BLAS_SYMBOL_SUFFIX', '64_'), ('HAVE_BLAS_ILP64', None), ('HAVE_LAPACKE', None)]\n",
            "    runtime_library_dirs = ['/usr/local/lib']\n",
            "lapack_ilp64_opt_info:\n",
            "    libraries = ['openblas64_', 'openblas64_']\n",
            "    library_dirs = ['/usr/local/lib']\n",
            "    language = c\n",
            "    define_macros = [('HAVE_CBLAS', None), ('BLAS_SYMBOL_SUFFIX', '64_'), ('HAVE_BLAS_ILP64', None), ('HAVE_LAPACKE', None)]\n",
            "    runtime_library_dirs = ['/usr/local/lib']\n",
            "Supported SIMD extensions in this NumPy install:\n",
            "    baseline = SSE,SSE2,SSE3\n",
            "    found = SSSE3,SSE41,POPCNT,SSE42,AVX,F16C,FMA3,AVX2\n",
            "    not found = AVX512F,AVX512CD,AVX512_KNL,AVX512_KNM,AVX512_SKX,AVX512_CLX,AVX512_CNL,AVX512_ICL\n",
            "None\n"
          ]
        }
      ],
      "source": [
        "print(\"NumPy Version:\", np.__version__)\n",
        "print(\"\\nNumPy Configuration:\")\n",
        "print(np.show_config())\n"
      ]
    },
    {
      "cell_type": "markdown",
      "id": "572c1bdb",
      "metadata": {
        "id": "572c1bdb"
      },
      "source": [
        "#### 3. Create a null vector of size 10 (★☆☆)"
      ]
    },
    {
      "cell_type": "code",
      "execution_count": null,
      "id": "31c9f6a5",
      "metadata": {
        "id": "31c9f6a5",
        "outputId": "375c9160-14f4-41ce-f0f8-f747618ade92",
        "colab": {
          "base_uri": "https://localhost:8080/"
        }
      },
      "outputs": [
        {
          "output_type": "stream",
          "name": "stdout",
          "text": [
            "[0. 0. 0. 0. 0. 0. 0. 0. 0. 0.]\n"
          ]
        }
      ],
      "source": [
        "a = np.zeros(10)\n",
        "print(a)"
      ]
    },
    {
      "cell_type": "markdown",
      "id": "337e6e36",
      "metadata": {
        "id": "337e6e36"
      },
      "source": [
        "#### 4. How to find the memory size of any array (★☆☆)"
      ]
    },
    {
      "cell_type": "code",
      "execution_count": null,
      "id": "31e8ec2e",
      "metadata": {
        "id": "31e8ec2e",
        "outputId": "6c06e390-c7ad-4c90-8663-f7716fe73b5f",
        "colab": {
          "base_uri": "https://localhost:8080/"
        }
      },
      "outputs": [
        {
          "output_type": "stream",
          "name": "stdout",
          "text": [
            "memory_sizeof: 32\n"
          ]
        }
      ],
      "source": [
        "a=np.array([1,2,3,4])\n",
        "print(\"memory_sizeof:\",a.nbytes)\n"
      ]
    },
    {
      "cell_type": "markdown",
      "id": "166079c8",
      "metadata": {
        "id": "166079c8"
      },
      "source": [
        "#### 5. How to get the documentation of the numpy add function from the command line? (★☆☆)"
      ]
    },
    {
      "cell_type": "code",
      "execution_count": null,
      "id": "593cd80f",
      "metadata": {
        "id": "593cd80f",
        "outputId": "9d1dab03-3f04-4e9b-bb19-8023a784d6f5",
        "colab": {
          "base_uri": "https://localhost:8080/"
        }
      },
      "outputs": [
        {
          "output_type": "stream",
          "name": "stdout",
          "text": [
            "add(x1, x2, /, out=None, *, where=True, casting='same_kind', order='K', dtype=None, subok=True[, signature, extobj])\n",
            "\n",
            "Add arguments element-wise.\n",
            "\n",
            "Parameters\n",
            "----------\n",
            "x1, x2 : array_like\n",
            "    The arrays to be added.\n",
            "    If ``x1.shape != x2.shape``, they must be broadcastable to a common\n",
            "    shape (which becomes the shape of the output).\n",
            "out : ndarray, None, or tuple of ndarray and None, optional\n",
            "    A location into which the result is stored. If provided, it must have\n",
            "    a shape that the inputs broadcast to. If not provided or None,\n",
            "    a freshly-allocated array is returned. A tuple (possible only as a\n",
            "    keyword argument) must have length equal to the number of outputs.\n",
            "where : array_like, optional\n",
            "    This condition is broadcast over the input. At locations where the\n",
            "    condition is True, the `out` array will be set to the ufunc result.\n",
            "    Elsewhere, the `out` array will retain its original value.\n",
            "    Note that if an uninitialized `out` array is created via the default\n",
            "    ``out=None``, locations within it where the condition is False will\n",
            "    remain uninitialized.\n",
            "**kwargs\n",
            "    For other keyword-only arguments, see the\n",
            "    :ref:`ufunc docs <ufuncs.kwargs>`.\n",
            "\n",
            "Returns\n",
            "-------\n",
            "add : ndarray or scalar\n",
            "    The sum of `x1` and `x2`, element-wise.\n",
            "    This is a scalar if both `x1` and `x2` are scalars.\n",
            "\n",
            "Notes\n",
            "-----\n",
            "Equivalent to `x1` + `x2` in terms of array broadcasting.\n",
            "\n",
            "Examples\n",
            "--------\n",
            ">>> np.add(1.0, 4.0)\n",
            "5.0\n",
            ">>> x1 = np.arange(9.0).reshape((3, 3))\n",
            ">>> x2 = np.arange(3.0)\n",
            ">>> np.add(x1, x2)\n",
            "array([[  0.,   2.,   4.],\n",
            "       [  3.,   5.,   7.],\n",
            "       [  6.,   8.,  10.]])\n",
            "\n",
            "The ``+`` operator can be used as a shorthand for ``np.add`` on ndarrays.\n",
            "\n",
            ">>> x1 = np.arange(9.0).reshape((3, 3))\n",
            ">>> x2 = np.arange(3.0)\n",
            ">>> x1 + x2\n",
            "array([[ 0.,  2.,  4.],\n",
            "       [ 3.,  5.,  7.],\n",
            "       [ 6.,  8., 10.]])\n",
            "None\n"
          ]
        }
      ],
      "source": [
        "print( np.info(np.add))"
      ]
    },
    {
      "cell_type": "markdown",
      "id": "3add7101",
      "metadata": {
        "id": "3add7101"
      },
      "source": [
        "#### 6. Create a null vector of size 10 but the fifth value which is 1 (★☆☆)"
      ]
    },
    {
      "cell_type": "code",
      "execution_count": null,
      "id": "2edf3c42",
      "metadata": {
        "id": "2edf3c42",
        "outputId": "855fdc4b-97eb-4f33-d9bf-43428bda10aa",
        "colab": {
          "base_uri": "https://localhost:8080/"
        }
      },
      "outputs": [
        {
          "output_type": "stream",
          "name": "stdout",
          "text": [
            "[0. 0. 0. 0. 1. 0. 0. 0. 0. 0.]\n"
          ]
        }
      ],
      "source": [
        "a= np.zeros(10)\n",
        "a[4]= 1\n",
        "print (a)"
      ]
    },
    {
      "cell_type": "markdown",
      "id": "cfc46304",
      "metadata": {
        "id": "cfc46304"
      },
      "source": [
        "#### 7. Create a vector with values ranging from 10 to 49 (★☆☆)"
      ]
    },
    {
      "cell_type": "code",
      "execution_count": null,
      "id": "d8b86640",
      "metadata": {
        "id": "d8b86640",
        "outputId": "c4bcb35c-d6ac-45b1-c272-a9a3880e191c",
        "colab": {
          "base_uri": "https://localhost:8080/"
        }
      },
      "outputs": [
        {
          "output_type": "stream",
          "name": "stdout",
          "text": [
            "[10 11 12 13 14 15 16 17 18 19 20 21 22 23 24 25 26 27 28 29 30 31 32 33\n",
            " 34 35 36 37 38 39 40 41 42 43 44 45 46 47 48 49]\n"
          ]
        }
      ],
      "source": [
        "a=np.arange(10,50)\n",
        "print (a)"
      ]
    },
    {
      "cell_type": "markdown",
      "id": "0cc200be",
      "metadata": {
        "id": "0cc200be"
      },
      "source": [
        "#### 8. Reverse a vector (first element becomes last) (★☆☆)"
      ]
    },
    {
      "cell_type": "code",
      "execution_count": null,
      "id": "ec044bb5",
      "metadata": {
        "id": "ec044bb5",
        "outputId": "8205dde3-091f-4ecc-d188-ceb57cf0d961",
        "colab": {
          "base_uri": "https://localhost:8080/"
        }
      },
      "outputs": [
        {
          "output_type": "stream",
          "name": "stdout",
          "text": [
            "[49 48 47 46 45 44 43 42 41 40 39 38 37 36 35 34 33 32 31 30 29 28 27 26\n",
            " 25 24 23 22 21 20 19 18 17 16 15 14 13 12 11 10]\n"
          ]
        }
      ],
      "source": [
        "a = np.arange(10,50)\n",
        "a= a[::-1]\n",
        "print (a)"
      ]
    },
    {
      "cell_type": "markdown",
      "id": "29d9ede4",
      "metadata": {
        "id": "29d9ede4"
      },
      "source": [
        "#### 9. Create a 3x3 matrix with values ranging from 0 to 8 (★☆☆)"
      ]
    },
    {
      "cell_type": "code",
      "execution_count": null,
      "id": "d9e39043",
      "metadata": {
        "id": "d9e39043",
        "outputId": "f119b196-0aaf-4895-d7a9-9f64f4dcdf9a",
        "colab": {
          "base_uri": "https://localhost:8080/"
        }
      },
      "outputs": [
        {
          "output_type": "stream",
          "name": "stdout",
          "text": [
            "[[0 1 2]\n",
            " [3 4 5]\n",
            " [6 7 8]]\n"
          ]
        }
      ],
      "source": [
        "a= np.arange(9).reshape(3,3)\n",
        "print (a)"
      ]
    },
    {
      "cell_type": "markdown",
      "id": "88905ceb",
      "metadata": {
        "id": "88905ceb"
      },
      "source": [
        "#### 10. Find indices of non-zero elements from [1,2,0,0,4,0] (★☆☆)"
      ]
    },
    {
      "cell_type": "code",
      "execution_count": null,
      "id": "b2f3c90a",
      "metadata": {
        "id": "b2f3c90a",
        "outputId": "51b40a0e-c2d2-4143-998b-0a6ee17f8854",
        "colab": {
          "base_uri": "https://localhost:8080/"
        }
      },
      "outputs": [
        {
          "output_type": "stream",
          "name": "stdout",
          "text": [
            "(array([0, 1, 4]),)\n"
          ]
        }
      ],
      "source": [
        "a = np.nonzero([1,2,0,0,4,0])\n",
        "print(a)"
      ]
    },
    {
      "cell_type": "markdown",
      "id": "49603e91",
      "metadata": {
        "id": "49603e91"
      },
      "source": [
        "#### 11. Create a 3x3 identity matrix (★☆☆)"
      ]
    },
    {
      "cell_type": "code",
      "execution_count": null,
      "id": "5b607b5c",
      "metadata": {
        "id": "5b607b5c",
        "outputId": "9f01a563-d375-4ad6-db1b-2490e1f2c37c",
        "colab": {
          "base_uri": "https://localhost:8080/"
        }
      },
      "outputs": [
        {
          "output_type": "stream",
          "name": "stdout",
          "text": [
            "[[1. 0. 0.]\n",
            " [0. 1. 0.]\n",
            " [0. 0. 1.]]\n"
          ]
        }
      ],
      "source": [
        "a= np.eye(3)\n",
        "print (a)"
      ]
    },
    {
      "cell_type": "markdown",
      "id": "e15c249a",
      "metadata": {
        "id": "e15c249a"
      },
      "source": [
        "#### 12. Create a 3x3x3 array with random values (★☆☆)"
      ]
    },
    {
      "cell_type": "code",
      "execution_count": null,
      "id": "ab21ed50",
      "metadata": {
        "id": "ab21ed50",
        "outputId": "9376f912-ef0a-4fd4-8cc8-f100da066183",
        "colab": {
          "base_uri": "https://localhost:8080/"
        }
      },
      "outputs": [
        {
          "output_type": "stream",
          "name": "stdout",
          "text": [
            "[2.96290807 2.20291654 2.8259424 ]\n"
          ]
        }
      ],
      "source": [
        "a= np.random.uniform((3,3,3))\n",
        "print (a)"
      ]
    },
    {
      "cell_type": "markdown",
      "id": "157a129c",
      "metadata": {
        "id": "157a129c"
      },
      "source": [
        "#### 13. Create a 10x10 array with random values and find the minimum and maximum values (★☆☆)"
      ]
    },
    {
      "cell_type": "code",
      "execution_count": null,
      "id": "c0066de5",
      "metadata": {
        "id": "c0066de5",
        "outputId": "4ce57021-93de-46f4-82bf-e89c49517d0e",
        "colab": {
          "base_uri": "https://localhost:8080/"
        }
      },
      "outputs": [
        {
          "output_type": "stream",
          "name": "stdout",
          "text": [
            "0.005180115963117293 0.9923060958131603\n"
          ]
        }
      ],
      "source": [
        "Z = np.random.random((10,10))\n",
        "Zmin, Zmax = Z.min(), Z.max()\n",
        "print(Zmin, Zmax)"
      ]
    },
    {
      "cell_type": "markdown",
      "id": "d92d7b32",
      "metadata": {
        "id": "d92d7b32"
      },
      "source": [
        "#### 14. Create a random vector of size 30 and find the mean value (★☆☆)"
      ]
    },
    {
      "cell_type": "code",
      "execution_count": null,
      "id": "9672d023",
      "metadata": {
        "id": "9672d023",
        "outputId": "249dd590-5260-4a35-8f2f-bdb732fa2db8",
        "colab": {
          "base_uri": "https://localhost:8080/"
        }
      },
      "outputs": [
        {
          "output_type": "stream",
          "name": "stdout",
          "text": [
            "0.5652522698906508\n"
          ]
        }
      ],
      "source": [
        "a= np.random.random(10)\n",
        "b = a.mean()\n",
        "print (b)\n"
      ]
    },
    {
      "cell_type": "markdown",
      "id": "f361efc0",
      "metadata": {
        "id": "f361efc0"
      },
      "source": [
        "#### 15. Create a 2d array with 1 on the border and 0 inside (★☆☆)"
      ]
    },
    {
      "cell_type": "code",
      "execution_count": null,
      "id": "a55b6666",
      "metadata": {
        "id": "a55b6666",
        "outputId": "292da845-612e-485c-8224-6fb1a31c4965",
        "colab": {
          "base_uri": "https://localhost:8080/"
        }
      },
      "outputs": [
        {
          "output_type": "stream",
          "name": "stdout",
          "text": [
            "[[1. 1. 1. 1. 1. 1. 1. 1. 1. 1.]\n",
            " [1. 0. 0. 0. 0. 0. 0. 0. 0. 1.]\n",
            " [1. 0. 0. 0. 0. 0. 0. 0. 0. 1.]\n",
            " [1. 0. 0. 0. 0. 0. 0. 0. 0. 1.]\n",
            " [1. 0. 0. 0. 0. 0. 0. 0. 0. 1.]\n",
            " [1. 0. 0. 0. 0. 0. 0. 0. 0. 1.]\n",
            " [1. 0. 0. 0. 0. 0. 0. 0. 0. 1.]\n",
            " [1. 0. 0. 0. 0. 0. 0. 0. 0. 1.]\n",
            " [1. 0. 0. 0. 0. 0. 0. 0. 0. 1.]\n",
            " [1. 1. 1. 1. 1. 1. 1. 1. 1. 1.]]\n"
          ]
        }
      ],
      "source": [
        "a = np.ones((10,10))\n",
        "a[1:-1,1:-1]=0\n",
        "print(a)"
      ]
    },
    {
      "cell_type": "markdown",
      "id": "475808cb",
      "metadata": {
        "id": "475808cb"
      },
      "source": [
        "#### 16. How to add a border (filled with 0's) around an existing array? (★☆☆)"
      ]
    },
    {
      "cell_type": "code",
      "execution_count": null,
      "id": "b2df3a8a",
      "metadata": {
        "id": "b2df3a8a",
        "outputId": "4958610f-e015-479a-b1bd-f42acc464533",
        "colab": {
          "base_uri": "https://localhost:8080/"
        }
      },
      "outputs": [
        {
          "output_type": "stream",
          "name": "stdout",
          "text": [
            "[[0. 0. 0. 0. 0. 0. 0.]\n",
            " [0. 1. 1. 1. 1. 1. 0.]\n",
            " [0. 1. 1. 1. 1. 1. 0.]\n",
            " [0. 1. 1. 1. 1. 1. 0.]\n",
            " [0. 1. 1. 1. 1. 1. 0.]\n",
            " [0. 1. 1. 1. 1. 1. 0.]\n",
            " [0. 0. 0. 0. 0. 0. 0.]]\n"
          ]
        }
      ],
      "source": [
        "a= np.ones((5,5))\n",
        "a= np.pad(a, pad_width=1, mode='constant', constant_values=0)\n",
        "print(a)\n",
        "\n",
        "\n",
        "\n",
        "\n"
      ]
    },
    {
      "cell_type": "markdown",
      "id": "1af07d85",
      "metadata": {
        "id": "1af07d85"
      },
      "source": [
        "#### 17. What is the result of the following expression? (★☆☆)\n",
        "```python\n",
        "0 * np.nan\n",
        "np.nan == np.nan\n",
        "np.inf > np.nan\n",
        "np.nan - np.nan\n",
        "np.nan in set([np.nan])\n",
        "0.3 == 3 * 0.1\n",
        "```"
      ]
    },
    {
      "cell_type": "code",
      "execution_count": null,
      "id": "109cf327",
      "metadata": {
        "id": "109cf327",
        "outputId": "1d365789-dcc1-42c4-dd6a-6f8a71ab6277",
        "colab": {
          "base_uri": "https://localhost:8080/"
        }
      },
      "outputs": [
        {
          "output_type": "stream",
          "name": "stdout",
          "text": [
            "nan\n",
            "False\n",
            "False\n",
            "nan\n",
            "True\n",
            "False\n"
          ]
        }
      ],
      "source": [
        "print(0 * np.nan)\n",
        "print(np.nan == np.nan)\n",
        "print(np.inf > np.nan)\n",
        "print(np.nan - np.nan)\n",
        "print(np.nan in set([np.nan]))\n",
        "print(0.3 == 3 * 0.1)"
      ]
    },
    {
      "cell_type": "markdown",
      "id": "6a235316",
      "metadata": {
        "id": "6a235316"
      },
      "source": [
        "#### 18. Create a 5x5 matrix with values 1,2,3,4 just below the diagonal (★☆☆)"
      ]
    },
    {
      "cell_type": "code",
      "execution_count": null,
      "id": "f2e6cfa6",
      "metadata": {
        "id": "f2e6cfa6",
        "outputId": "295dcef5-3b2c-4398-dd00-190faf3d5e13",
        "colab": {
          "base_uri": "https://localhost:8080/"
        }
      },
      "outputs": [
        {
          "output_type": "stream",
          "name": "stdout",
          "text": [
            "[[0 0 0 0 0]\n",
            " [1 0 0 0 0]\n",
            " [0 2 0 0 0]\n",
            " [0 0 3 0 0]\n",
            " [0 0 0 4 0]]\n"
          ]
        }
      ],
      "source": [
        "a= np.diag(1+np.arange(4),k=-1)\n",
        "print(a)"
      ]
    },
    {
      "cell_type": "markdown",
      "id": "25362e98",
      "metadata": {
        "id": "25362e98"
      },
      "source": [
        "#### 19. Create a 8x8 matrix and fill it with a checkerboard pattern (★☆☆)"
      ]
    },
    {
      "cell_type": "code",
      "execution_count": null,
      "id": "cabdf298",
      "metadata": {
        "id": "cabdf298",
        "outputId": "1498b928-b4e2-4538-a32f-771d77149d01",
        "colab": {
          "base_uri": "https://localhost:8080/"
        }
      },
      "outputs": [
        {
          "output_type": "stream",
          "name": "stdout",
          "text": [
            "[[0 1 0 1 0 1 0 1]\n",
            " [1 0 1 0 1 0 1 0]\n",
            " [0 1 0 1 0 1 0 1]\n",
            " [1 0 1 0 1 0 1 0]\n",
            " [0 1 0 1 0 1 0 1]\n",
            " [1 0 1 0 1 0 1 0]\n",
            " [0 1 0 1 0 1 0 1]\n",
            " [1 0 1 0 1 0 1 0]]\n"
          ]
        }
      ],
      "source": [
        "Z = np.zeros((8,8),dtype=int)\n",
        "Z[1::2,::2] = 1\n",
        "Z[::2,1::2] = 1\n",
        "print(Z)"
      ]
    },
    {
      "cell_type": "markdown",
      "id": "6431e977",
      "metadata": {
        "id": "6431e977"
      },
      "source": [
        "#### 20. Consider a (6,7,8) shape array, what is the index (x,y,z) of the 100th element? (★☆☆)"
      ]
    },
    {
      "cell_type": "code",
      "execution_count": null,
      "id": "de8b0245",
      "metadata": {
        "id": "de8b0245",
        "outputId": "d4f82137-8a18-40fd-9c4c-dbb81ed0c9ca",
        "colab": {
          "base_uri": "https://localhost:8080/"
        }
      },
      "outputs": [
        {
          "output_type": "stream",
          "name": "stdout",
          "text": [
            "(1, 5, 4)\n"
          ]
        }
      ],
      "source": [
        "print(np.unravel_index(100,(6,7,8)))"
      ]
    },
    {
      "cell_type": "markdown",
      "id": "31abe6fe",
      "metadata": {
        "id": "31abe6fe"
      },
      "source": [
        "#### 21. Create a checkerboard 8x8 matrix using the tile function (★☆☆)"
      ]
    },
    {
      "cell_type": "code",
      "execution_count": null,
      "id": "6da26fd3",
      "metadata": {
        "id": "6da26fd3",
        "outputId": "153ea246-99d0-4fa6-9a4a-1b7db5edd945",
        "colab": {
          "base_uri": "https://localhost:8080/"
        }
      },
      "outputs": [
        {
          "output_type": "stream",
          "name": "stdout",
          "text": [
            "[[0 1 0 1 0 1 0 1]\n",
            " [1 0 1 0 1 0 1 0]\n",
            " [0 1 0 1 0 1 0 1]\n",
            " [1 0 1 0 1 0 1 0]\n",
            " [0 1 0 1 0 1 0 1]\n",
            " [1 0 1 0 1 0 1 0]\n",
            " [0 1 0 1 0 1 0 1]\n",
            " [1 0 1 0 1 0 1 0]]\n"
          ]
        }
      ],
      "source": [
        "a= np.tile( np.array([[0,1],[1,0]]), (4,4))\n",
        "print(a)"
      ]
    },
    {
      "cell_type": "markdown",
      "id": "fd88b3f4",
      "metadata": {
        "id": "fd88b3f4"
      },
      "source": [
        "#### 22. Normalize a 5x5 random matrix (★☆☆)"
      ]
    },
    {
      "cell_type": "code",
      "execution_count": null,
      "id": "ee6ced60",
      "metadata": {
        "id": "ee6ced60",
        "outputId": "dbedfa32-0163-477c-b56e-9939a98b1a7a",
        "colab": {
          "base_uri": "https://localhost:8080/"
        }
      },
      "outputs": [
        {
          "output_type": "stream",
          "name": "stdout",
          "text": [
            "[[ 0.41047301 -0.71861134 -0.17083551 -0.76592237  0.90264378]\n",
            " [ 1.77715288  0.9973674  -1.16541663  0.50598527  0.01659015]\n",
            " [ 1.78862755 -1.24719448  0.86713727 -1.2975059  -0.58636995]\n",
            " [ 0.89501687 -1.05767792  0.20925592  0.99811186  1.08926166]\n",
            " [-1.33936583 -0.48413068  0.69215961 -1.50892661 -0.80782601]]\n"
          ]
        }
      ],
      "source": [
        "a = np.random.random((5,5))\n",
        "a= (a- np.mean (a)) / (np.std (a))\n",
        "print(a)"
      ]
    },
    {
      "cell_type": "markdown",
      "id": "464d8590",
      "metadata": {
        "id": "464d8590"
      },
      "source": [
        "#### 23. Create a custom dtype that describes a color as four unsigned bytes (RGBA) (★☆☆)"
      ]
    },
    {
      "cell_type": "code",
      "execution_count": null,
      "id": "e2f9cfc6",
      "metadata": {
        "id": "e2f9cfc6",
        "outputId": "7edfe574-7f8e-4746-97eb-7be35b38c759",
        "colab": {
          "base_uri": "https://localhost:8080/"
        }
      },
      "outputs": [
        {
          "output_type": "stream",
          "name": "stderr",
          "text": [
            "<ipython-input-37-b9f1a6f5df9c>:1: FutureWarning: Passing (type, 1) or '1type' as a synonym of type is deprecated; in a future version of numpy, it will be understood as (type, (1,)) / '(1,)type'.\n",
            "  color = np.dtype([(\"r\", np.ubyte, 1),\n"
          ]
        }
      ],
      "source": [
        "color = np.dtype([(\"r\", np.ubyte, 1),\n",
        "                  (\"g\", np.ubyte, 1),\n",
        "                  (\"b\", np.ubyte, 1),\n",
        "                  (\"a\", np.ubyte, 1)])"
      ]
    },
    {
      "cell_type": "markdown",
      "id": "06c63bb3",
      "metadata": {
        "id": "06c63bb3"
      },
      "source": [
        "#### 24. Multiply a 5x3 matrix by a 3x2 matrix (real matrix product) (★☆☆)"
      ]
    },
    {
      "cell_type": "code",
      "execution_count": null,
      "id": "9fc0d553",
      "metadata": {
        "id": "9fc0d553",
        "outputId": "d3002cc0-98ac-40e7-fd9e-acee56eefbc5",
        "colab": {
          "base_uri": "https://localhost:8080/"
        }
      },
      "outputs": [
        {
          "output_type": "stream",
          "name": "stdout",
          "text": [
            "[[3. 3.]\n",
            " [3. 3.]\n",
            " [3. 3.]\n",
            " [3. 3.]\n",
            " [3. 3.]]\n"
          ]
        }
      ],
      "source": [
        "a = np.dot(np.ones((5,3)), np.ones((3,2)))\n",
        "print(a)\n",
        "a= np.ones((5,3)) @ np.ones((3,2))"
      ]
    },
    {
      "cell_type": "markdown",
      "id": "76fa6285",
      "metadata": {
        "id": "76fa6285"
      },
      "source": [
        "#### 25. Given a 1D array, negate all elements which are between 3 and 8, in place. (★☆☆)"
      ]
    },
    {
      "cell_type": "code",
      "execution_count": null,
      "id": "0e25eca7",
      "metadata": {
        "id": "0e25eca7",
        "outputId": "12c7906a-f239-4401-dc1a-e3ff80ef5227",
        "colab": {
          "base_uri": "https://localhost:8080/"
        }
      },
      "outputs": [
        {
          "output_type": "stream",
          "name": "stdout",
          "text": [
            "[ 0  1  2  3 -4 -5 -6 -7 -8  9 10]\n"
          ]
        }
      ],
      "source": [
        "a = np.arange(11)\n",
        "a[(3 < a) & (a <= 8)] *= -1\n",
        "print(a)"
      ]
    },
    {
      "cell_type": "markdown",
      "id": "930ed8bb",
      "metadata": {
        "id": "930ed8bb"
      },
      "source": [
        "#### 26. What is the output of the following script? (★☆☆)\n",
        "```python\n",
        "# Author: Jake VanderPlas\n",
        "\n",
        "print(sum(range(5),-1))\n",
        "from numpy import *\n",
        "print(sum(range(5),-1))\n",
        "```"
      ]
    },
    {
      "cell_type": "code",
      "execution_count": null,
      "id": "f02eedba",
      "metadata": {
        "id": "f02eedba",
        "outputId": "ffd2d3e8-ca4d-48a0-a871-af51ffdd89d8",
        "colab": {
          "base_uri": "https://localhost:8080/"
        }
      },
      "outputs": [
        {
          "output_type": "stream",
          "name": "stdout",
          "text": [
            "9\n",
            "10\n"
          ]
        }
      ],
      "source": [
        "print(sum(range(5),-1))\n",
        "from numpy import *\n",
        "print(sum(range(5),-1))"
      ]
    },
    {
      "cell_type": "markdown",
      "id": "177120e7",
      "metadata": {
        "id": "177120e7"
      },
      "source": [
        "#### 27. Consider an integer vector Z, which of these expressions are legal? (★☆☆)\n",
        "```python\n",
        "Z**Z\n",
        "2 << Z >> 2\n",
        "Z <- Z\n",
        "1j*Z\n",
        "Z/1/1\n",
        "Z<Z>Z\n",
        "```"
      ]
    },
    {
      "cell_type": "code",
      "execution_count": null,
      "id": "86d6cbef",
      "metadata": {
        "id": "86d6cbef"
      },
      "outputs": [],
      "source": []
    },
    {
      "cell_type": "markdown",
      "id": "a6eaf0e8",
      "metadata": {
        "id": "a6eaf0e8"
      },
      "source": [
        "#### 28. What are the result of the following expressions? (★☆☆)\n",
        "```python\n",
        "np.array(0) / np.array(0)\n",
        "np.array(0) // np.array(0)\n",
        "np.array([np.nan]).astype(int).astype(float)\n",
        "```"
      ]
    },
    {
      "cell_type": "code",
      "execution_count": null,
      "id": "93684068",
      "metadata": {
        "id": "93684068",
        "outputId": "858753e2-7ecc-4abf-f37f-c212548f8c94",
        "colab": {
          "base_uri": "https://localhost:8080/"
        }
      },
      "outputs": [
        {
          "output_type": "stream",
          "name": "stdout",
          "text": [
            "nan\n",
            "0\n",
            "[-9.22337204e+18]\n"
          ]
        },
        {
          "output_type": "stream",
          "name": "stderr",
          "text": [
            "<ipython-input-42-2a10de0ee61b>:1: RuntimeWarning: invalid value encountered in divide\n",
            "  print(np.array(0) / np.array(0))\n",
            "<ipython-input-42-2a10de0ee61b>:2: RuntimeWarning: divide by zero encountered in floor_divide\n",
            "  print(np.array(0) // np.array(0))\n"
          ]
        }
      ],
      "source": [
        "print(np.array(0) / np.array(0))\n",
        "print(np.array(0) // np.array(0))\n",
        "print(np.array([np.nan]).astype(int).astype(float))"
      ]
    },
    {
      "cell_type": "markdown",
      "id": "524b65f8",
      "metadata": {
        "id": "524b65f8"
      },
      "source": [
        "#### 29. How to round away from zero a float array ? (★☆☆)"
      ]
    },
    {
      "cell_type": "code",
      "execution_count": null,
      "id": "61fbb78e",
      "metadata": {
        "id": "61fbb78e",
        "outputId": "dbc73dca-ccb7-4084-8756-da6d9a3f93e4",
        "colab": {
          "base_uri": "https://localhost:8080/"
        }
      },
      "outputs": [
        {
          "output_type": "stream",
          "name": "stdout",
          "text": [
            "[  1.  -3.  -6.  -3.   1. -10.   6.  -4.  -4.   9.]\n"
          ]
        }
      ],
      "source": [
        "a = np.random.uniform(-10,+10,10)\n",
        "print (np.copysign(np.ceil(np.abs(a)), a))"
      ]
    },
    {
      "cell_type": "markdown",
      "id": "8dc40752",
      "metadata": {
        "id": "8dc40752"
      },
      "source": [
        "#### 30. How to find common values between two arrays? (★☆☆)"
      ]
    },
    {
      "cell_type": "code",
      "execution_count": null,
      "id": "54399cbe",
      "metadata": {
        "id": "54399cbe",
        "outputId": "075cbfd3-79c3-46e1-f1dd-4990d85a4973",
        "colab": {
          "base_uri": "https://localhost:8080/"
        }
      },
      "outputs": [
        {
          "output_type": "stream",
          "name": "stdout",
          "text": [
            "[0 1 3 7]\n"
          ]
        }
      ],
      "source": [
        "a = np.random.randint(0,10,10)\n",
        "b = np.random.randint(0,10,10)\n",
        "print(np.intersect1d(a,b))"
      ]
    },
    {
      "cell_type": "markdown",
      "id": "b7f38e21",
      "metadata": {
        "id": "b7f38e21"
      },
      "source": [
        "#### 31. How to ignore all numpy warnings (not recommended)? (★☆☆)"
      ]
    },
    {
      "cell_type": "code",
      "execution_count": null,
      "id": "2ca3289c",
      "metadata": {
        "id": "2ca3289c"
      },
      "outputs": [],
      "source": []
    },
    {
      "cell_type": "markdown",
      "id": "2d850aab",
      "metadata": {
        "id": "2d850aab"
      },
      "source": [
        "#### 32. Is the following expressions true? (★☆☆)\n",
        "```python\n",
        "np.sqrt(-1) == np.emath.sqrt(-1)\n",
        "```"
      ]
    },
    {
      "cell_type": "code",
      "execution_count": null,
      "id": "5c83ffce",
      "metadata": {
        "id": "5c83ffce",
        "outputId": "39fbbc36-5f84-4077-d835-800c7350ee48",
        "colab": {
          "base_uri": "https://localhost:8080/"
        }
      },
      "outputs": [
        {
          "output_type": "stream",
          "name": "stderr",
          "text": [
            "<ipython-input-45-16339fbc685e>:1: RuntimeWarning: invalid value encountered in sqrt\n",
            "  np.sqrt(-1) == np.emath.sqrt(-1)\n"
          ]
        },
        {
          "output_type": "execute_result",
          "data": {
            "text/plain": [
              "False"
            ]
          },
          "metadata": {},
          "execution_count": 45
        }
      ],
      "source": [
        "np.sqrt(-1) == np.emath.sqrt(-1)"
      ]
    },
    {
      "cell_type": "markdown",
      "id": "5c4a556f",
      "metadata": {
        "id": "5c4a556f"
      },
      "source": [
        "#### 33. How to get the dates of yesterday, today and tomorrow? (★☆☆)"
      ]
    },
    {
      "cell_type": "code",
      "execution_count": null,
      "id": "c3b683a0",
      "metadata": {
        "id": "c3b683a0"
      },
      "outputs": [],
      "source": [
        "yesterday = np.datetime64('today', 'D') - np.timedelta64(1, 'D')\n",
        "today     = np.datetime64('today', 'D')\n",
        "tomorrow  = np.datetime64('today', 'D') + np.timedelta64(1, 'D')"
      ]
    },
    {
      "cell_type": "markdown",
      "id": "453cdd64",
      "metadata": {
        "id": "453cdd64"
      },
      "source": [
        "#### 34. How to get all the dates corresponding to the month of July 2016? (★★☆)"
      ]
    },
    {
      "cell_type": "code",
      "execution_count": null,
      "id": "4ba4d37c",
      "metadata": {
        "id": "4ba4d37c",
        "outputId": "422e4baa-8cc6-4f6f-a345-2901ebe8e8c4",
        "colab": {
          "base_uri": "https://localhost:8080/"
        }
      },
      "outputs": [
        {
          "output_type": "stream",
          "name": "stdout",
          "text": [
            "['2016-07-01' '2016-07-02' '2016-07-03' '2016-07-04' '2016-07-05'\n",
            " '2016-07-06' '2016-07-07' '2016-07-08' '2016-07-09' '2016-07-10'\n",
            " '2016-07-11' '2016-07-12' '2016-07-13' '2016-07-14' '2016-07-15'\n",
            " '2016-07-16' '2016-07-17' '2016-07-18' '2016-07-19' '2016-07-20'\n",
            " '2016-07-21' '2016-07-22' '2016-07-23' '2016-07-24' '2016-07-25'\n",
            " '2016-07-26' '2016-07-27' '2016-07-28' '2016-07-29' '2016-07-30'\n",
            " '2016-07-31']\n"
          ]
        }
      ],
      "source": [
        "a= np.arange('2016-07', '2016-08', dtype='datetime64[D]')\n",
        "print(a)"
      ]
    },
    {
      "cell_type": "markdown",
      "id": "52667b6e",
      "metadata": {
        "id": "52667b6e"
      },
      "source": [
        "#### 35. How to compute ((A+B)*(-A/2)) in place (without copy)? (★★☆)"
      ]
    },
    {
      "cell_type": "code",
      "execution_count": null,
      "id": "e6e7c030",
      "metadata": {
        "id": "e6e7c030",
        "colab": {
          "base_uri": "https://localhost:8080/"
        },
        "outputId": "4c8929d4-b636-4df5-a76a-63c44bca4302"
      },
      "outputs": [
        {
          "output_type": "execute_result",
          "data": {
            "text/plain": [
              "array([-1.5, -1.5, -1.5])"
            ]
          },
          "metadata": {},
          "execution_count": 4
        }
      ],
      "source": [
        "A = np.ones(3)*1\n",
        "B = np.ones(3)*2\n",
        "C = np.ones(3)*3\n",
        "np.add(A,B,out=B)\n",
        "np.divide(A,2,out=A)\n",
        "np.negative(A,out=A)\n",
        "np.multiply(A,B,out=A)\n"
      ]
    },
    {
      "cell_type": "markdown",
      "id": "9a8f3738",
      "metadata": {
        "id": "9a8f3738"
      },
      "source": [
        "#### 36. Extract the integer part of a random array of positive numbers using 4 different methods (★★☆)"
      ]
    },
    {
      "cell_type": "code",
      "execution_count": null,
      "id": "368a801a",
      "metadata": {
        "id": "368a801a",
        "colab": {
          "base_uri": "https://localhost:8080/"
        },
        "outputId": "b627aeb9-0655-4374-d69b-68e751a18d14"
      },
      "outputs": [
        {
          "output_type": "stream",
          "name": "stdout",
          "text": [
            "[9. 4. 2. 4. 4. 5. 3. 8. 0. 9.]\n",
            "[9. 4. 2. 4. 4. 5. 3. 8. 0. 9.]\n",
            "[9. 4. 2. 4. 4. 5. 3. 8. 0. 9.]\n",
            "[9 4 2 4 4 5 3 8 0 9]\n",
            "[9. 4. 2. 4. 4. 5. 3. 8. 0. 9.]\n"
          ]
        }
      ],
      "source": [
        "a = np.random.uniform(0,10,10)\n",
        "\n",
        "print (a - a%1)\n",
        "print (np.floor(a))\n",
        "print (np.ceil(a)-1)\n",
        "print (a.astype(int))\n",
        "print (np.trunc(a))\n"
      ]
    },
    {
      "cell_type": "markdown",
      "id": "cab1eed1",
      "metadata": {
        "id": "cab1eed1"
      },
      "source": [
        "#### 37. Create a 5x5 matrix with row values ranging from 0 to 4 (★★☆)"
      ]
    },
    {
      "cell_type": "code",
      "execution_count": null,
      "id": "f1b579ba",
      "metadata": {
        "id": "f1b579ba",
        "colab": {
          "base_uri": "https://localhost:8080/"
        },
        "outputId": "384e1afd-25e6-4c4e-d33a-fe240867e863"
      },
      "outputs": [
        {
          "output_type": "stream",
          "name": "stdout",
          "text": [
            "[[0. 1. 2. 3. 4.]\n",
            " [0. 1. 2. 3. 4.]\n",
            " [0. 1. 2. 3. 4.]\n",
            " [0. 1. 2. 3. 4.]\n",
            " [0. 1. 2. 3. 4.]]\n"
          ]
        }
      ],
      "source": [
        "a= np.zeros((5,5))\n",
        "a += np.arange(5)\n",
        "print(a)"
      ]
    },
    {
      "cell_type": "markdown",
      "id": "cd0ce6b1",
      "metadata": {
        "id": "cd0ce6b1"
      },
      "source": [
        "#### 38. Consider a generator function that generates 10 integers and use it to build an array (★☆☆)"
      ]
    },
    {
      "cell_type": "code",
      "execution_count": null,
      "id": "aab193a6",
      "metadata": {
        "id": "aab193a6",
        "colab": {
          "base_uri": "https://localhost:8080/"
        },
        "outputId": "352d1d1f-e101-4341-f974-f7df85d6dcbf"
      },
      "outputs": [
        {
          "output_type": "stream",
          "name": "stdout",
          "text": [
            "[0. 1. 2. 3. 4. 5. 6. 7. 8. 9.]\n"
          ]
        }
      ],
      "source": [
        "def generate():\n",
        "    for x in range(10):\n",
        "        yield x\n",
        "a= np.fromiter(generate(),dtype=float,count=-1)\n",
        "print(a)"
      ]
    },
    {
      "cell_type": "markdown",
      "id": "c4c942d1",
      "metadata": {
        "id": "c4c942d1"
      },
      "source": [
        "#### 39. Create a vector of size 10 with values ranging from 0 to 1, both excluded (★★☆)"
      ]
    },
    {
      "cell_type": "code",
      "execution_count": null,
      "id": "e42eaa4b",
      "metadata": {
        "id": "e42eaa4b",
        "colab": {
          "base_uri": "https://localhost:8080/"
        },
        "outputId": "a324dc18-76fa-4c8c-9c00-bb596c6818cb"
      },
      "outputs": [
        {
          "output_type": "stream",
          "name": "stdout",
          "text": [
            "[0.09090909 0.18181818 0.27272727 0.36363636 0.45454545 0.54545455\n",
            " 0.63636364 0.72727273 0.81818182 0.90909091]\n"
          ]
        }
      ],
      "source": [
        "a= np.linspace(0,1,11,endpoint=False)[1:]\n",
        "print(a)"
      ]
    },
    {
      "cell_type": "markdown",
      "id": "9b3cb8d2",
      "metadata": {
        "id": "9b3cb8d2"
      },
      "source": [
        "#### 40. Create a random vector of size 10 and sort it (★★☆)"
      ]
    },
    {
      "cell_type": "code",
      "execution_count": null,
      "id": "37d2b341",
      "metadata": {
        "id": "37d2b341",
        "colab": {
          "base_uri": "https://localhost:8080/"
        },
        "outputId": "d86ee3ae-9f3f-47a6-e131-6b1b16e4cae0"
      },
      "outputs": [
        {
          "output_type": "stream",
          "name": "stdout",
          "text": [
            "[0.01285217 0.08105502 0.1971392  0.25387015 0.35761631 0.40111888\n",
            " 0.78007414 0.78980714 0.82745364 0.968473  ]\n"
          ]
        }
      ],
      "source": [
        "a= np.random.random(10)\n",
        "a.sort()\n",
        "print(a)"
      ]
    },
    {
      "cell_type": "markdown",
      "id": "2facfddc",
      "metadata": {
        "id": "2facfddc"
      },
      "source": [
        "#### 41. How to sum a small array faster than np.sum? (★★☆)"
      ]
    },
    {
      "cell_type": "code",
      "execution_count": null,
      "id": "4bb8864f",
      "metadata": {
        "id": "4bb8864f",
        "colab": {
          "base_uri": "https://localhost:8080/"
        },
        "outputId": "efb3bfb2-98b5-4f8e-eb77-9f7229717e4b"
      },
      "outputs": [
        {
          "output_type": "execute_result",
          "data": {
            "text/plain": [
              "45"
            ]
          },
          "metadata": {},
          "execution_count": 10
        }
      ],
      "source": [
        "a = np.arange(10)\n",
        "np.add.reduce(a)"
      ]
    },
    {
      "cell_type": "markdown",
      "id": "539cd2a5",
      "metadata": {
        "id": "539cd2a5"
      },
      "source": [
        "#### 42. Consider two random array A and B, check if they are equal (★★☆)"
      ]
    },
    {
      "cell_type": "code",
      "execution_count": null,
      "id": "5246d7bf",
      "metadata": {
        "id": "5246d7bf",
        "colab": {
          "base_uri": "https://localhost:8080/"
        },
        "outputId": "6879e5cc-d05c-4186-eaa6-b37ef6247876"
      },
      "outputs": [
        {
          "output_type": "stream",
          "name": "stdout",
          "text": [
            "False\n",
            "False\n"
          ]
        }
      ],
      "source": [
        "A = np.random.randint(0,2,5)\n",
        "B = np.random.randint(0,2,5)\n",
        "\n",
        "equal = np.allclose(A,B)\n",
        "print(equal)\n",
        "\n",
        "equal = np.array_equal(A,B)\n",
        "print(equal)"
      ]
    },
    {
      "cell_type": "markdown",
      "id": "448f8274",
      "metadata": {
        "id": "448f8274"
      },
      "source": [
        "#### 43. Make an array immutable (read-only) (★★☆)"
      ]
    },
    {
      "cell_type": "code",
      "execution_count": null,
      "id": "7cf2b3dd",
      "metadata": {
        "id": "7cf2b3dd",
        "colab": {
          "base_uri": "https://localhost:8080/",
          "height": 210
        },
        "outputId": "e2c586a7-60fb-436d-f5c3-88dee7f717cc"
      },
      "outputs": [
        {
          "output_type": "error",
          "ename": "ValueError",
          "evalue": "ignored",
          "traceback": [
            "\u001b[0;31m---------------------------------------------------------------------------\u001b[0m",
            "\u001b[0;31mValueError\u001b[0m                                Traceback (most recent call last)",
            "\u001b[0;32m<ipython-input-12-bbb67c66a14c>\u001b[0m in \u001b[0;36m<cell line: 3>\u001b[0;34m()\u001b[0m\n\u001b[1;32m      1\u001b[0m \u001b[0ma\u001b[0m\u001b[0;34m=\u001b[0m \u001b[0mnp\u001b[0m\u001b[0;34m.\u001b[0m\u001b[0mzeros\u001b[0m\u001b[0;34m(\u001b[0m\u001b[0;36m10\u001b[0m\u001b[0;34m)\u001b[0m\u001b[0;34m\u001b[0m\u001b[0;34m\u001b[0m\u001b[0m\n\u001b[1;32m      2\u001b[0m \u001b[0ma\u001b[0m\u001b[0;34m.\u001b[0m\u001b[0mflags\u001b[0m\u001b[0;34m.\u001b[0m\u001b[0mwriteable\u001b[0m \u001b[0;34m=\u001b[0m \u001b[0;32mFalse\u001b[0m\u001b[0;34m\u001b[0m\u001b[0;34m\u001b[0m\u001b[0m\n\u001b[0;32m----> 3\u001b[0;31m \u001b[0ma\u001b[0m\u001b[0;34m[\u001b[0m\u001b[0;36m0\u001b[0m\u001b[0;34m]\u001b[0m \u001b[0;34m=\u001b[0m \u001b[0;36m1\u001b[0m\u001b[0;34m\u001b[0m\u001b[0;34m\u001b[0m\u001b[0m\n\u001b[0m",
            "\u001b[0;31mValueError\u001b[0m: assignment destination is read-only"
          ]
        }
      ],
      "source": [
        "a= np.zeros(10)\n",
        "a.flags.writeable = False\n",
        "a[0] = 1"
      ]
    },
    {
      "cell_type": "markdown",
      "id": "d7b7aaf3",
      "metadata": {
        "id": "d7b7aaf3"
      },
      "source": [
        "#### 44. Consider a random 10x2 matrix representing cartesian coordinates, convert them to polar coordinates (★★☆)"
      ]
    },
    {
      "cell_type": "code",
      "execution_count": null,
      "id": "e2337585",
      "metadata": {
        "id": "e2337585",
        "colab": {
          "base_uri": "https://localhost:8080/"
        },
        "outputId": "8d3d39fa-4ac9-432b-9075-2461df674b67"
      },
      "outputs": [
        {
          "output_type": "stream",
          "name": "stdout",
          "text": [
            "[0.76388449 0.47977867 0.66023885 1.02214337 1.00984463 1.00032859\n",
            " 0.57271487 0.95517043 1.20566183 0.81937892]\n",
            "[0.63199728 1.26755075 0.93662762 0.55740713 1.40138545 0.69786696\n",
            " 0.94371805 1.45782839 0.88660213 1.26936876]\n"
          ]
        }
      ],
      "source": [
        "a = np.random.random((10,2))\n",
        "X,Y = a[:,0], a[:,1]\n",
        "b= np.sqrt(X**2+Y**2)\n",
        "c = np.arctan2(Y,X)\n",
        "print(b)\n",
        "print(c)"
      ]
    },
    {
      "cell_type": "markdown",
      "id": "a556027a",
      "metadata": {
        "id": "a556027a"
      },
      "source": [
        "#### 45. Create random vector of size 10 and replace the maximum value by 0 (★★☆)"
      ]
    },
    {
      "cell_type": "code",
      "execution_count": null,
      "id": "9e07cb87",
      "metadata": {
        "id": "9e07cb87",
        "colab": {
          "base_uri": "https://localhost:8080/"
        },
        "outputId": "cfafd038-40d5-4a3f-9b7c-fadda8b3e6c5"
      },
      "outputs": [
        {
          "output_type": "stream",
          "name": "stdout",
          "text": [
            "[0.74200026 0.50101304 0.01096537 0.81863069 0.25509912 0.77009924\n",
            " 0.46950006 0.         0.83525708 0.34477091]\n"
          ]
        }
      ],
      "source": [
        "a= np.random.random(10)\n",
        "a[a.argmax()] = 0\n",
        "print(a)"
      ]
    },
    {
      "cell_type": "markdown",
      "id": "004f3da1",
      "metadata": {
        "id": "004f3da1"
      },
      "source": [
        "#### 46. Create a structured array with `x` and `y` coordinates covering the [0,1]x[0,1] area (★★☆)"
      ]
    },
    {
      "cell_type": "code",
      "execution_count": null,
      "id": "b3824741",
      "metadata": {
        "id": "b3824741",
        "colab": {
          "base_uri": "https://localhost:8080/"
        },
        "outputId": "64003ed7-639b-4ace-87ce-baeac5cf2f88"
      },
      "outputs": [
        {
          "output_type": "stream",
          "name": "stdout",
          "text": [
            "[[(0.  , 0.  ) (0.25, 0.  ) (0.5 , 0.  ) (0.75, 0.  ) (1.  , 0.  )]\n",
            " [(0.  , 0.25) (0.25, 0.25) (0.5 , 0.25) (0.75, 0.25) (1.  , 0.25)]\n",
            " [(0.  , 0.5 ) (0.25, 0.5 ) (0.5 , 0.5 ) (0.75, 0.5 ) (1.  , 0.5 )]\n",
            " [(0.  , 0.75) (0.25, 0.75) (0.5 , 0.75) (0.75, 0.75) (1.  , 0.75)]\n",
            " [(0.  , 1.  ) (0.25, 1.  ) (0.5 , 1.  ) (0.75, 1.  ) (1.  , 1.  )]]\n"
          ]
        }
      ],
      "source": [
        "a = np.zeros((5,5), [('x',float),('y',float)])\n",
        "a['x'], a['y'] = np.meshgrid(np.linspace(0,1,5),np.linspace(0,1,5))\n",
        "print(a)"
      ]
    },
    {
      "cell_type": "markdown",
      "id": "1c0adc0d",
      "metadata": {
        "id": "1c0adc0d"
      },
      "source": [
        "#### 47. Given two arrays, X and Y, construct the Cauchy matrix C (Cij =1/(xi - yj)) (★★☆)"
      ]
    },
    {
      "cell_type": "code",
      "execution_count": null,
      "id": "01b3bbb7",
      "metadata": {
        "id": "01b3bbb7",
        "colab": {
          "base_uri": "https://localhost:8080/"
        },
        "outputId": "7cdf956b-0603-4942-aa45-a7db54576491"
      },
      "outputs": [
        {
          "output_type": "stream",
          "name": "stdout",
          "text": [
            "3638.163637117973\n"
          ]
        }
      ],
      "source": [
        "a = np.arange(8)\n",
        "b = a+ 0.5\n",
        "c = 1.0 / np.subtract.outer(a,b)\n",
        "print(np.linalg.det(c))"
      ]
    },
    {
      "cell_type": "markdown",
      "id": "c8a2f65a",
      "metadata": {
        "id": "c8a2f65a"
      },
      "source": [
        "#### 48. Print the minimum and maximum representable value for each numpy scalar type (★★☆)"
      ]
    },
    {
      "cell_type": "code",
      "execution_count": null,
      "id": "35d844d6",
      "metadata": {
        "id": "35d844d6",
        "colab": {
          "base_uri": "https://localhost:8080/"
        },
        "outputId": "40ed3d5a-9251-47d5-adad-535b6fcfc6c8"
      },
      "outputs": [
        {
          "output_type": "stream",
          "name": "stdout",
          "text": [
            "-128\n",
            "127\n",
            "-2147483648\n",
            "2147483647\n",
            "-9223372036854775808\n",
            "9223372036854775807\n",
            "-3.4028235e+38\n",
            "3.4028235e+38\n",
            "1.1920929e-07\n",
            "-1.7976931348623157e+308\n",
            "1.7976931348623157e+308\n",
            "2.220446049250313e-16\n"
          ]
        }
      ],
      "source": [
        "for dtype in [np.int8, np.int32, np.int64]:\n",
        "   print(np.iinfo(dtype).min)\n",
        "   print(np.iinfo(dtype).max)\n",
        "for dtype in [np.float32, np.float64]:\n",
        "   print(np.finfo(dtype).min)\n",
        "   print(np.finfo(dtype).max)\n",
        "   print(np.finfo(dtype).eps)"
      ]
    },
    {
      "cell_type": "markdown",
      "id": "11727a69",
      "metadata": {
        "id": "11727a69"
      },
      "source": [
        "#### 49. How to print all the values of an array? (★★☆)"
      ]
    },
    {
      "cell_type": "code",
      "execution_count": null,
      "id": "47e98473",
      "metadata": {
        "id": "47e98473",
        "colab": {
          "base_uri": "https://localhost:8080/",
          "height": 373
        },
        "outputId": "63614932-e50a-48ed-99ec-6a67d8938fe8"
      },
      "outputs": [
        {
          "output_type": "error",
          "ename": "ValueError",
          "evalue": "ignored",
          "traceback": [
            "\u001b[0;31m---------------------------------------------------------------------------\u001b[0m",
            "\u001b[0;31mValueError\u001b[0m                                Traceback (most recent call last)",
            "\u001b[0;32m<ipython-input-23-b7860eba6db9>\u001b[0m in \u001b[0;36m<cell line: 1>\u001b[0;34m()\u001b[0m\n\u001b[0;32m----> 1\u001b[0;31m \u001b[0ma\u001b[0m\u001b[0;34m=\u001b[0m\u001b[0mnp\u001b[0m\u001b[0;34m.\u001b[0m\u001b[0mset_printoptions\u001b[0m\u001b[0;34m(\u001b[0m\u001b[0mthreshold\u001b[0m\u001b[0;34m=\u001b[0m\u001b[0mnp\u001b[0m\u001b[0;34m.\u001b[0m\u001b[0mnan\u001b[0m\u001b[0;34m)\u001b[0m\u001b[0;34m\u001b[0m\u001b[0;34m\u001b[0m\u001b[0m\n\u001b[0m\u001b[1;32m      2\u001b[0m \u001b[0mb\u001b[0m\u001b[0;34m=\u001b[0m\u001b[0mnp\u001b[0m\u001b[0;34m.\u001b[0m\u001b[0mzeros\u001b[0m\u001b[0;34m(\u001b[0m\u001b[0;34m(\u001b[0m\u001b[0;36m16\u001b[0m\u001b[0;34m,\u001b[0m\u001b[0;36m16\u001b[0m\u001b[0;34m)\u001b[0m\u001b[0;34m)\u001b[0m\u001b[0;34m\u001b[0m\u001b[0;34m\u001b[0m\u001b[0m\n\u001b[1;32m      3\u001b[0m \u001b[0mprint\u001b[0m\u001b[0;34m(\u001b[0m\u001b[0ma\u001b[0m\u001b[0;34m)\u001b[0m\u001b[0;34m\u001b[0m\u001b[0;34m\u001b[0m\u001b[0m\n",
            "\u001b[0;32m/usr/local/lib/python3.10/dist-packages/numpy/core/arrayprint.py\u001b[0m in \u001b[0;36mset_printoptions\u001b[0;34m(precision, threshold, edgeitems, linewidth, suppress, nanstr, infstr, formatter, sign, floatmode, legacy)\u001b[0m\n\u001b[1;32m    275\u001b[0m \u001b[0;34m\u001b[0m\u001b[0m\n\u001b[1;32m    276\u001b[0m     \"\"\"\n\u001b[0;32m--> 277\u001b[0;31m     opt = _make_options_dict(precision, threshold, edgeitems, linewidth,\n\u001b[0m\u001b[1;32m    278\u001b[0m                              \u001b[0msuppress\u001b[0m\u001b[0;34m,\u001b[0m \u001b[0mnanstr\u001b[0m\u001b[0;34m,\u001b[0m \u001b[0minfstr\u001b[0m\u001b[0;34m,\u001b[0m \u001b[0msign\u001b[0m\u001b[0;34m,\u001b[0m \u001b[0mformatter\u001b[0m\u001b[0;34m,\u001b[0m\u001b[0;34m\u001b[0m\u001b[0;34m\u001b[0m\u001b[0m\n\u001b[1;32m    279\u001b[0m                              floatmode, legacy)\n",
            "\u001b[0;32m/usr/local/lib/python3.10/dist-packages/numpy/core/arrayprint.py\u001b[0m in \u001b[0;36m_make_options_dict\u001b[0;34m(precision, threshold, edgeitems, linewidth, suppress, nanstr, infstr, sign, formatter, floatmode, legacy)\u001b[0m\n\u001b[1;32m    101\u001b[0m             \u001b[0;32mraise\u001b[0m \u001b[0mTypeError\u001b[0m\u001b[0;34m(\u001b[0m\u001b[0;34m\"threshold must be numeric\"\u001b[0m\u001b[0;34m)\u001b[0m\u001b[0;34m\u001b[0m\u001b[0;34m\u001b[0m\u001b[0m\n\u001b[1;32m    102\u001b[0m         \u001b[0;32mif\u001b[0m \u001b[0mnp\u001b[0m\u001b[0;34m.\u001b[0m\u001b[0misnan\u001b[0m\u001b[0;34m(\u001b[0m\u001b[0mthreshold\u001b[0m\u001b[0;34m)\u001b[0m\u001b[0;34m:\u001b[0m\u001b[0;34m\u001b[0m\u001b[0;34m\u001b[0m\u001b[0m\n\u001b[0;32m--> 103\u001b[0;31m             raise ValueError(\"threshold must be non-NAN, try \"\n\u001b[0m\u001b[1;32m    104\u001b[0m                              \"sys.maxsize for untruncated representation\")\n\u001b[1;32m    105\u001b[0m \u001b[0;34m\u001b[0m\u001b[0m\n",
            "\u001b[0;31mValueError\u001b[0m: threshold must be non-NAN, try sys.maxsize for untruncated representation"
          ]
        }
      ],
      "source": [
        "a=np.set_printoptions(threshold=np.nan)\n",
        "b=np.zeros((16,16))\n",
        "print(a)"
      ]
    },
    {
      "cell_type": "markdown",
      "id": "e0e7d741",
      "metadata": {
        "id": "e0e7d741"
      },
      "source": [
        "#### 50. How to find the closest value (to a given scalar) in a vector? (★★☆)"
      ]
    },
    {
      "cell_type": "code",
      "execution_count": null,
      "id": "62cabf6f",
      "metadata": {
        "id": "62cabf6f",
        "colab": {
          "base_uri": "https://localhost:8080/"
        },
        "outputId": "2e6acdec-54c7-42bb-a5f2-9100b513727b"
      },
      "outputs": [
        {
          "output_type": "stream",
          "name": "stdout",
          "text": [
            "34\n"
          ]
        }
      ],
      "source": [
        "a = np.arange(100)\n",
        "b = np.random.uniform(0,100)\n",
        "index = (np.abs(a-b)).argmin()\n",
        "print(a[index])"
      ]
    },
    {
      "cell_type": "markdown",
      "id": "c5611b9e",
      "metadata": {
        "id": "c5611b9e"
      },
      "source": [
        "#### 51. Create a structured array representing a position (x,y) and a color (r,g,b) (★★☆)"
      ]
    },
    {
      "cell_type": "code",
      "execution_count": null,
      "id": "f622939d",
      "metadata": {
        "id": "f622939d",
        "colab": {
          "base_uri": "https://localhost:8080/"
        },
        "outputId": "d13eb34c-d47c-4c85-a10f-6cadc18e0f22"
      },
      "outputs": [
        {
          "output_type": "stream",
          "name": "stdout",
          "text": [
            "[((0., 0.), (0., 0., 0.)) ((0., 0.), (0., 0., 0.))\n",
            " ((0., 0.), (0., 0., 0.)) ((0., 0.), (0., 0., 0.))\n",
            " ((0., 0.), (0., 0., 0.)) ((0., 0.), (0., 0., 0.))\n",
            " ((0., 0.), (0., 0., 0.)) ((0., 0.), (0., 0., 0.))\n",
            " ((0., 0.), (0., 0., 0.)) ((0., 0.), (0., 0., 0.))]\n"
          ]
        },
        {
          "output_type": "stream",
          "name": "stderr",
          "text": [
            "<ipython-input-25-bbd83fc32c69>:1: FutureWarning: Passing (type, 1) or '1type' as a synonym of type is deprecated; in a future version of numpy, it will be understood as (type, (1,)) / '(1,)type'.\n",
            "  a = np.zeros(10, [ ('position', [ ('x', float, 1),('y', float, 1)]),('color',    [ ('r', float, 1),('g', float, 1),('b', float, 1)])])\n"
          ]
        }
      ],
      "source": [
        "a = np.zeros(10, [ ('position', [ ('x', float, 1),('y', float, 1)]),('color',    [ ('r', float, 1),('g', float, 1),('b', float, 1)])])\n",
        "print(a)"
      ]
    },
    {
      "cell_type": "markdown",
      "id": "d22b8574",
      "metadata": {
        "id": "d22b8574"
      },
      "source": [
        "#### 52. Consider a random vector with shape (100,2) representing coordinates, find point by point distances (★★☆)"
      ]
    },
    {
      "cell_type": "code",
      "execution_count": null,
      "id": "d5c9cdf8",
      "metadata": {
        "id": "d5c9cdf8",
        "colab": {
          "base_uri": "https://localhost:8080/"
        },
        "outputId": "48c4243c-38da-4049-fd60-3286436f3b63"
      },
      "outputs": [
        {
          "output_type": "stream",
          "name": "stdout",
          "text": [
            "[[0.         0.97606762 0.99349595 0.61201804 0.352124   0.80677711\n",
            "  0.76529223 0.75981336 0.69315777 0.62933356]\n",
            " [0.97606762 0.         0.2684308  0.42681271 0.62650086 0.338366\n",
            "  0.49856892 0.7574217  0.46818658 0.51811793]\n",
            " [0.99349595 0.2684308  0.         0.57675792 0.649778   0.19399721\n",
            "  0.71778601 0.56209737 0.33706853 0.69615248]\n",
            " [0.61201804 0.42681271 0.57675792 0.         0.31498983 0.47145007\n",
            "  0.2241989  0.76153493 0.48204551 0.1294216 ]\n",
            " [0.352124   0.62650086 0.649778   0.31498983 0.         0.4715388\n",
            "  0.52222674 0.56435789 0.38440943 0.39046507]\n",
            " [0.80677711 0.338366   0.19399721 0.47145007 0.4715388  0.\n",
            "  0.65685116 0.41912505 0.14749013 0.60009438]\n",
            " [0.76529223 0.49856892 0.71778601 0.2241989  0.52222674 0.65685116\n",
            "  0.         0.98193412 0.69343196 0.13783058]\n",
            " [0.75981336 0.7574217  0.56209737 0.76153493 0.56435789 0.41912505\n",
            "  0.98193412 0.         0.30468576 0.88275316]\n",
            " [0.69315777 0.46818658 0.33706853 0.48204551 0.38440943 0.14749013\n",
            "  0.69343196 0.30468576 0.         0.60970371]\n",
            " [0.62933356 0.51811793 0.69615248 0.1294216  0.39046507 0.60009438\n",
            "  0.13783058 0.88275316 0.60970371 0.        ]]\n"
          ]
        }
      ],
      "source": [
        "Z = np.random.random((10,2))\n",
        "X,Y = np.atleast_2d(Z[:,0], Z[:,1])\n",
        "D = np.sqrt( (X-X.T)**2 + (Y-Y.T)**2)\n",
        "print(D)\n"
      ]
    },
    {
      "cell_type": "markdown",
      "id": "f5c164f2",
      "metadata": {
        "id": "f5c164f2"
      },
      "source": [
        "#### 53. How to convert a float (32 bits) array into an integer (32 bits) in place?"
      ]
    },
    {
      "cell_type": "code",
      "execution_count": null,
      "id": "ea262de8",
      "metadata": {
        "id": "ea262de8",
        "colab": {
          "base_uri": "https://localhost:8080/"
        },
        "outputId": "4c7b837f-7fbb-45d5-8bee-0cee8ef60b94"
      },
      "outputs": [
        {
          "output_type": "stream",
          "name": "stdout",
          "text": [
            "[0 1 2 3 4 5 6 7 8 9]\n"
          ]
        }
      ],
      "source": [
        "a= np.arange(10, dtype=np.float32)\n",
        "a= a.astype(np.int32, copy=False)\n",
        "print(a)"
      ]
    },
    {
      "cell_type": "markdown",
      "id": "a8b7e6f5",
      "metadata": {
        "id": "a8b7e6f5"
      },
      "source": [
        "#### 54. How to read the following file? (★★☆)\n",
        "```\n",
        "1, 2, 3, 4, 5\n",
        "6,  ,  , 7, 8\n",
        " ,  , 9,10,11\n",
        "```"
      ]
    },
    {
      "cell_type": "code",
      "execution_count": null,
      "id": "bde0538a",
      "metadata": {
        "id": "bde0538a",
        "colab": {
          "base_uri": "https://localhost:8080/"
        },
        "outputId": "627a00db-e135-4e04-bf1e-cae552fa7f99"
      },
      "outputs": [
        {
          "output_type": "stream",
          "name": "stdout",
          "text": [
            "[[ 1  2  3  4  5]\n",
            " [ 6 -1 -1  7  8]\n",
            " [-1 -1  9 10 11]]\n"
          ]
        },
        {
          "output_type": "stream",
          "name": "stderr",
          "text": [
            "<ipython-input-28-7bed0aadadbe>:7: DeprecationWarning: `np.int` is a deprecated alias for the builtin `int`. To silence this warning, use `int` by itself. Doing this will not modify any behavior and is safe. When replacing `np.int`, you may wish to use e.g. `np.int64` or `np.int32` to specify the precision. If you wish to review your current use, check the release note link for additional information.\n",
            "Deprecated in NumPy 1.20; for more details and guidance: https://numpy.org/devdocs/release/1.20.0-notes.html#deprecations\n",
            "  a= np.genfromtxt(s, delimiter=\",\", dtype=np.int)\n"
          ]
        }
      ],
      "source": [
        "from io import StringIO\n",
        "\n",
        "# Fake file\n",
        "s = StringIO(\"\"\"1, 2, 3, 4, 5\\n\n",
        "                6,  ,  , 7, 8\\n\n",
        "                 ,  , 9,10,11\\n\"\"\")\n",
        "a= np.genfromtxt(s, delimiter=\",\", dtype=np.int)\n",
        "print(a)"
      ]
    },
    {
      "cell_type": "markdown",
      "id": "c6b32834",
      "metadata": {
        "id": "c6b32834"
      },
      "source": [
        "#### 55. What is the equivalent of enumerate for numpy arrays? (★★☆)"
      ]
    },
    {
      "cell_type": "code",
      "execution_count": null,
      "id": "ab02472a",
      "metadata": {
        "id": "ab02472a",
        "colab": {
          "base_uri": "https://localhost:8080/"
        },
        "outputId": "abae2c72-44ec-482b-9cb7-816884938217"
      },
      "outputs": [
        {
          "output_type": "stream",
          "name": "stdout",
          "text": [
            "(0, 0) 0\n",
            "(0, 1) 1\n",
            "(0, 2) 2\n",
            "(1, 0) 3\n",
            "(1, 1) 4\n",
            "(1, 2) 5\n",
            "(2, 0) 6\n",
            "(2, 1) 7\n",
            "(2, 2) 8\n",
            "(0, 0) 0\n",
            "(0, 1) 1\n",
            "(0, 2) 2\n",
            "(1, 0) 3\n",
            "(1, 1) 4\n",
            "(1, 2) 5\n",
            "(2, 0) 6\n",
            "(2, 1) 7\n",
            "(2, 2) 8\n"
          ]
        }
      ],
      "source": [
        "a= np.arange(9).reshape(3,3)\n",
        "for index, value in np.ndenumerate(a):\n",
        "    print(index, value)\n",
        "for index in np.ndindex(a.shape):\n",
        "    print(index, a[index])"
      ]
    },
    {
      "cell_type": "markdown",
      "id": "a2121a05",
      "metadata": {
        "id": "a2121a05"
      },
      "source": [
        "#### 56. Generate a generic 2D Gaussian-like array (★★☆)"
      ]
    },
    {
      "cell_type": "code",
      "execution_count": null,
      "id": "18507102",
      "metadata": {
        "id": "18507102",
        "colab": {
          "base_uri": "https://localhost:8080/"
        },
        "outputId": "da0a403d-1c9b-4717-9b27-e81d4366e2df"
      },
      "outputs": [
        {
          "output_type": "stream",
          "name": "stdout",
          "text": [
            "[[0.36787944 0.44822088 0.51979489 0.57375342 0.60279818 0.60279818\n",
            "  0.57375342 0.51979489 0.44822088 0.36787944]\n",
            " [0.44822088 0.54610814 0.63331324 0.69905581 0.73444367 0.73444367\n",
            "  0.69905581 0.63331324 0.54610814 0.44822088]\n",
            " [0.51979489 0.63331324 0.73444367 0.81068432 0.85172308 0.85172308\n",
            "  0.81068432 0.73444367 0.63331324 0.51979489]\n",
            " [0.57375342 0.69905581 0.81068432 0.89483932 0.9401382  0.9401382\n",
            "  0.89483932 0.81068432 0.69905581 0.57375342]\n",
            " [0.60279818 0.73444367 0.85172308 0.9401382  0.98773022 0.98773022\n",
            "  0.9401382  0.85172308 0.73444367 0.60279818]\n",
            " [0.60279818 0.73444367 0.85172308 0.9401382  0.98773022 0.98773022\n",
            "  0.9401382  0.85172308 0.73444367 0.60279818]\n",
            " [0.57375342 0.69905581 0.81068432 0.89483932 0.9401382  0.9401382\n",
            "  0.89483932 0.81068432 0.69905581 0.57375342]\n",
            " [0.51979489 0.63331324 0.73444367 0.81068432 0.85172308 0.85172308\n",
            "  0.81068432 0.73444367 0.63331324 0.51979489]\n",
            " [0.44822088 0.54610814 0.63331324 0.69905581 0.73444367 0.73444367\n",
            "  0.69905581 0.63331324 0.54610814 0.44822088]\n",
            " [0.36787944 0.44822088 0.51979489 0.57375342 0.60279818 0.60279818\n",
            "  0.57375342 0.51979489 0.44822088 0.36787944]]\n"
          ]
        }
      ],
      "source": [
        "X, Y = np.meshgrid(np.linspace(-1,1,10), np.linspace(-1,1,10))\n",
        "D = np.sqrt(X*X+Y*Y)\n",
        "sigma, mu = 1.0, 0.0\n",
        "G = np.exp(-( (D-mu)**2 / ( 2.0 * sigma**2 ) ) )\n",
        "print(G)"
      ]
    },
    {
      "cell_type": "markdown",
      "id": "97055efa",
      "metadata": {
        "id": "97055efa"
      },
      "source": [
        "#### 57. How to randomly place p elements in a 2D array? (★★☆)"
      ]
    },
    {
      "cell_type": "code",
      "execution_count": null,
      "id": "292e842f",
      "metadata": {
        "id": "292e842f",
        "colab": {
          "base_uri": "https://localhost:8080/"
        },
        "outputId": "f2108eec-68ca-4389-9866-b74812f20269"
      },
      "outputs": [
        {
          "output_type": "stream",
          "name": "stdout",
          "text": [
            "[[0. 0. 0. 0. 0. 0. 0. 0. 0. 0.]\n",
            " [1. 1. 0. 0. 0. 0. 0. 0. 0. 0.]\n",
            " [0. 0. 0. 0. 0. 0. 0. 0. 0. 0.]\n",
            " [0. 1. 0. 0. 0. 0. 0. 0. 0. 0.]\n",
            " [0. 0. 0. 0. 0. 0. 0. 0. 0. 0.]\n",
            " [0. 0. 0. 0. 0. 0. 0. 0. 0. 0.]\n",
            " [0. 0. 0. 0. 0. 0. 0. 0. 0. 0.]\n",
            " [0. 0. 0. 0. 0. 0. 0. 0. 0. 0.]\n",
            " [0. 0. 0. 0. 0. 0. 0. 0. 0. 0.]\n",
            " [0. 0. 0. 0. 0. 0. 0. 0. 0. 0.]]\n"
          ]
        }
      ],
      "source": [
        "n = 10\n",
        "p = 3\n",
        "a = np.zeros((n,n))\n",
        "np.put(a, np.random.choice(range(n*n), p, replace=False),1)\n",
        "print(a)"
      ]
    },
    {
      "cell_type": "markdown",
      "id": "bfd2513c",
      "metadata": {
        "id": "bfd2513c"
      },
      "source": [
        "#### 58. Subtract the mean of each row of a matrix (★★☆)"
      ]
    },
    {
      "cell_type": "code",
      "execution_count": null,
      "id": "f306ab72",
      "metadata": {
        "id": "f306ab72",
        "colab": {
          "base_uri": "https://localhost:8080/"
        },
        "outputId": "4962d7c4-79df-4914-8590-9442b3f201a5"
      },
      "outputs": [
        {
          "output_type": "stream",
          "name": "stdout",
          "text": [
            "[[ 0.38753268  0.38837031 -0.44826402  0.44411142 -0.47394247  0.40681115\n",
            "   0.10730968 -0.44749239  0.07785008 -0.44228644]\n",
            " [ 0.15896657 -0.15258103 -0.08034198  0.17675783  0.13201689  0.27345241\n",
            "   0.04475048 -0.30241694  0.04728139 -0.29788563]\n",
            " [ 0.11208474 -0.51613778  0.42689307  0.19935812 -0.09664786 -0.0378653\n",
            "  -0.07490287 -0.03555764  0.19081091 -0.16803539]\n",
            " [ 0.11972593  0.06659061 -0.03035388  0.07221043  0.03600089  0.10079994\n",
            "   0.43420628  0.02084122 -0.32552903 -0.49449239]\n",
            " [-0.02305462 -0.05345114 -0.27622664  0.21684683  0.1775731  -0.37383138\n",
            "  -0.14295118  0.19083374  0.03473873  0.24952256]]\n"
          ]
        }
      ],
      "source": [
        "X = np.random.rand(5, 10)\n",
        "\n",
        "# Recent versions of numpy\n",
        "Y = X - X.mean(axis=1, keepdims=True)\n",
        "\n",
        "# Older versions of numpy\n",
        "Y = X - X.mean(axis=1).reshape(-1, 1)\n",
        "\n",
        "print(Y)"
      ]
    },
    {
      "cell_type": "markdown",
      "id": "da9f2f9b",
      "metadata": {
        "id": "da9f2f9b"
      },
      "source": [
        "#### 59. How to sort an array by the nth column? (★★☆)"
      ]
    },
    {
      "cell_type": "code",
      "execution_count": null,
      "id": "68cde57f",
      "metadata": {
        "id": "68cde57f",
        "colab": {
          "base_uri": "https://localhost:8080/"
        },
        "outputId": "3df39c51-1c81-44d4-f700-adbb71a8790e"
      },
      "outputs": [
        {
          "output_type": "stream",
          "name": "stdout",
          "text": [
            "[[7 8 9]\n",
            " [9 1 6]\n",
            " [7 1 2]]\n",
            "[[9 1 6]\n",
            " [7 1 2]\n",
            " [7 8 9]]\n"
          ]
        }
      ],
      "source": [
        "a= np.random.randint(0,10,(3,3))\n",
        "print(a)\n",
        "print(a[a[:,1].argsort()])"
      ]
    },
    {
      "cell_type": "markdown",
      "id": "5b7be45c",
      "metadata": {
        "id": "5b7be45c"
      },
      "source": [
        "#### 60. How to tell if a given 2D array has null columns? (★★☆)"
      ]
    },
    {
      "cell_type": "code",
      "execution_count": null,
      "id": "7dbe2c27",
      "metadata": {
        "id": "7dbe2c27",
        "colab": {
          "base_uri": "https://localhost:8080/"
        },
        "outputId": "5bf9ce35-fa99-4794-d7e9-b3fdcd0b174c"
      },
      "outputs": [
        {
          "output_type": "stream",
          "name": "stdout",
          "text": [
            "True\n"
          ]
        }
      ],
      "source": [
        "a= np.random.randint(0,3,(3,10))\n",
        "print((~a.any(axis=0)).any())"
      ]
    },
    {
      "cell_type": "markdown",
      "id": "7c18c02e",
      "metadata": {
        "id": "7c18c02e"
      },
      "source": [
        "#### 61. Find the nearest value from a given value in an array (★★☆)"
      ]
    },
    {
      "cell_type": "code",
      "execution_count": null,
      "id": "b78ae9c4",
      "metadata": {
        "id": "b78ae9c4",
        "colab": {
          "base_uri": "https://localhost:8080/"
        },
        "outputId": "cdd358f7-91a0-42c3-a1ef-911fdea95d2a"
      },
      "outputs": [
        {
          "output_type": "stream",
          "name": "stdout",
          "text": [
            "0.478176323074083\n"
          ]
        }
      ],
      "source": [
        "a= np.random.uniform(0,1,10)\n",
        "b = 0.5\n",
        "m = a.flat[np.abs(a - b).argmin()]\n",
        "print(m)"
      ]
    },
    {
      "cell_type": "markdown",
      "id": "8174ba2c",
      "metadata": {
        "id": "8174ba2c"
      },
      "source": [
        "#### 62. Considering two arrays with shape (1,3) and (3,1), how to compute their sum using an iterator? (★★☆)"
      ]
    },
    {
      "cell_type": "code",
      "execution_count": null,
      "id": "8a18fe57",
      "metadata": {
        "id": "8a18fe57",
        "colab": {
          "base_uri": "https://localhost:8080/"
        },
        "outputId": "7eec5f8c-5614-4a4a-d926-36acfa249e3f"
      },
      "outputs": [
        {
          "output_type": "stream",
          "name": "stdout",
          "text": [
            "[[0 1 2]\n",
            " [1 2 3]\n",
            " [2 3 4]]\n"
          ]
        }
      ],
      "source": [
        "a = np.arange(3).reshape(3,1)\n",
        "b = np.arange(3).reshape(1,3)\n",
        "it = np.nditer([a,b,None])\n",
        "for x,y,z in it: z[...] = x + y\n",
        "print(it.operands[2])"
      ]
    },
    {
      "cell_type": "markdown",
      "id": "9189bd7c",
      "metadata": {
        "id": "9189bd7c"
      },
      "source": [
        "#### 63. Create an array class that has a name attribute (★★☆)"
      ]
    },
    {
      "cell_type": "code",
      "execution_count": null,
      "id": "1c01ed42",
      "metadata": {
        "id": "1c01ed42",
        "colab": {
          "base_uri": "https://localhost:8080/"
        },
        "outputId": "8ea7bc52-e664-4e3f-ef72-2be128902be2"
      },
      "outputs": [
        {
          "output_type": "stream",
          "name": "stdout",
          "text": [
            "range_10\n"
          ]
        }
      ],
      "source": [
        "class NamedArray(np.ndarray):\n",
        "    def __new__(cls, array, name=\"no name\"):\n",
        "        obj = np.asarray(array).view(cls)\n",
        "        obj.name = name\n",
        "        return obj\n",
        "    def __array_finalize__(self, obj):\n",
        "        if obj is None: return\n",
        "        self.info = getattr(obj, 'name', \"no name\")\n",
        "\n",
        "Z = NamedArray(np.arange(10), \"range_10\")\n",
        "print (Z.name)"
      ]
    },
    {
      "cell_type": "markdown",
      "id": "f30162d2",
      "metadata": {
        "id": "f30162d2"
      },
      "source": [
        "#### 64. Consider a given vector, how to add 1 to each element indexed by a second vector (be careful with repeated indices)? (★★★)"
      ]
    },
    {
      "cell_type": "code",
      "execution_count": null,
      "id": "093ba36f",
      "metadata": {
        "id": "093ba36f",
        "colab": {
          "base_uri": "https://localhost:8080/"
        },
        "outputId": "e8c51dbd-c427-48f2-cd97-71b4d9754ac3"
      },
      "outputs": [
        {
          "output_type": "stream",
          "name": "stdout",
          "text": [
            "[4. 3. 3. 2. 4. 2. 3. 3. 3. 3.]\n",
            "[7. 5. 5. 3. 7. 3. 5. 5. 5. 5.]\n"
          ]
        }
      ],
      "source": [
        "Z = np.ones(10)\n",
        "I = np.random.randint(0,len(Z),20)\n",
        "Z += np.bincount(I, minlength=len(Z))\n",
        "print(Z)\n",
        "np.add.at(Z, I, 1)\n",
        "print(Z)"
      ]
    },
    {
      "cell_type": "markdown",
      "id": "f5b1c584",
      "metadata": {
        "id": "f5b1c584"
      },
      "source": [
        "#### 65. How to accumulate elements of a vector (X) to an array (F) based on an index list (I)? (★★★)"
      ]
    },
    {
      "cell_type": "code",
      "execution_count": null,
      "id": "c9d92a75",
      "metadata": {
        "id": "c9d92a75",
        "colab": {
          "base_uri": "https://localhost:8080/"
        },
        "outputId": "37049c4a-5fc6-42ee-f96d-504779efa80a"
      },
      "outputs": [
        {
          "output_type": "stream",
          "name": "stdout",
          "text": [
            "[0. 1. 3. 9. 3. 4. 1.]\n"
          ]
        }
      ],
      "source": [
        "a = [1,2,3,4,5,6]\n",
        "b = [1,3,9,3,4,1]\n",
        "c = np.bincount(a,b)\n",
        "print(c)"
      ]
    },
    {
      "cell_type": "markdown",
      "id": "994c452d",
      "metadata": {
        "id": "994c452d"
      },
      "source": [
        "#### 66. Considering a (w,h,3) image of (dtype=ubyte), compute the number of unique colors (★★☆)"
      ]
    },
    {
      "cell_type": "code",
      "execution_count": null,
      "id": "269cdaea",
      "metadata": {
        "id": "269cdaea",
        "colab": {
          "base_uri": "https://localhost:8080/"
        },
        "outputId": "14322cea-d63b-44bb-ad3d-e0227d458bcf"
      },
      "outputs": [
        {
          "output_type": "stream",
          "name": "stdout",
          "text": [
            "8\n"
          ]
        }
      ],
      "source": [
        "w,h = 16,16\n",
        "I = np.random.randint(0,2,(h,w,3)).astype(np.ubyte)\n",
        "F = I[...,0]*(256*256) + I[...,1]*256 +I[...,2]\n",
        "n = len(np.unique(F))\n",
        "print(n)"
      ]
    },
    {
      "cell_type": "markdown",
      "id": "4bddeb31",
      "metadata": {
        "id": "4bddeb31"
      },
      "source": [
        "#### 67. Considering a four dimensions array, how to get sum over the last two axis at once? (★★★)"
      ]
    },
    {
      "cell_type": "code",
      "execution_count": null,
      "id": "32af15f5",
      "metadata": {
        "id": "32af15f5",
        "colab": {
          "base_uri": "https://localhost:8080/"
        },
        "outputId": "da29c87d-d38b-4d76-980e-8add6dbdd414"
      },
      "outputs": [
        {
          "output_type": "stream",
          "name": "stdout",
          "text": [
            "[[49 39 42 42]\n",
            " [56 59 70 54]\n",
            " [58 45 57 43]]\n",
            "[[49 39 42 42]\n",
            " [56 59 70 54]\n",
            " [58 45 57 43]]\n"
          ]
        }
      ],
      "source": [
        "A = np.random.randint(0,10,(3,4,3,4))\n",
        "sum = A.sum(axis=(-2,-1))\n",
        "print(sum)\n",
        "sum = A.reshape(A.shape[:-2] + (-1,)).sum(axis=-1)\n",
        "print(sum)"
      ]
    },
    {
      "cell_type": "markdown",
      "id": "c4cf083c",
      "metadata": {
        "id": "c4cf083c"
      },
      "source": [
        "#### 68. Considering a one-dimensional vector D, how to compute means of subsets of D using a vector S of same size describing subset  indices? (★★★)"
      ]
    },
    {
      "cell_type": "code",
      "execution_count": null,
      "id": "9600a2dd",
      "metadata": {
        "id": "9600a2dd",
        "colab": {
          "base_uri": "https://localhost:8080/"
        },
        "outputId": "c3784142-68f2-42d2-b491-5862451b1cf5"
      },
      "outputs": [
        {
          "output_type": "stream",
          "name": "stdout",
          "text": [
            "[0.44338999 0.51140322 0.52888665 0.35665101 0.38608522 0.65753599\n",
            " 0.67189031 0.47276958 0.45004525 0.39700763]\n",
            "0    0.443390\n",
            "1    0.511403\n",
            "2    0.528887\n",
            "3    0.356651\n",
            "4    0.386085\n",
            "5    0.657536\n",
            "6    0.671890\n",
            "7    0.472770\n",
            "8    0.450045\n",
            "9    0.397008\n",
            "dtype: float64\n"
          ]
        }
      ],
      "source": [
        "a= np.random.uniform(0,1,100)\n",
        "b = np.random.randint(0,10,100)\n",
        "a_sums = np.bincount(b, weights=a)\n",
        "a_counts = np.bincount(b)\n",
        "a_means = a_sums / a_counts\n",
        "print(a_means)\n",
        "\n",
        "# Pandas solution as a reference due to more intuitive code\n",
        "import pandas as pd\n",
        "print(pd.Series(a).groupby(b).mean())"
      ]
    },
    {
      "cell_type": "markdown",
      "id": "a5e316db",
      "metadata": {
        "id": "a5e316db"
      },
      "source": [
        "#### 69. How to get the diagonal of a dot product? (★★★)"
      ]
    },
    {
      "cell_type": "code",
      "execution_count": null,
      "id": "94735dbd",
      "metadata": {
        "id": "94735dbd",
        "colab": {
          "base_uri": "https://localhost:8080/"
        },
        "outputId": "fde59294-ca7d-4f56-b47e-ea077411aef1"
      },
      "outputs": [
        {
          "output_type": "execute_result",
          "data": {
            "text/plain": [
              "array([2.48196676, 2.03304426, 0.72795656, 0.71819949, 1.03306791])"
            ]
          },
          "metadata": {},
          "execution_count": 45
        }
      ],
      "source": [
        "A = np.random.uniform(0,1,(5,5))\n",
        "B = np.random.uniform(0,1,(5,5))\n",
        "\n",
        "# Slow version\n",
        "np.diag(np.dot(A, B))\n",
        "\n",
        "# Fast version\n",
        "np.sum(A * B.T, axis=1)\n",
        "\n",
        "# Faster version\n",
        "np.einsum(\"ij,ji->i\", A, B)"
      ]
    },
    {
      "cell_type": "markdown",
      "id": "de727a7b",
      "metadata": {
        "id": "de727a7b"
      },
      "source": [
        "#### 70. Consider the vector [1, 2, 3, 4, 5], how to build a new vector with 3 consecutive zeros interleaved between each value? (★★★)"
      ]
    },
    {
      "cell_type": "code",
      "execution_count": null,
      "id": "982be812",
      "metadata": {
        "id": "982be812",
        "colab": {
          "base_uri": "https://localhost:8080/"
        },
        "outputId": "2b32ba13-ae0c-47e7-e36c-7c7d4dd8403c"
      },
      "outputs": [
        {
          "output_type": "stream",
          "name": "stdout",
          "text": [
            "[1. 0. 0. 0. 2. 0. 0. 0. 3. 0. 0. 0. 4. 0. 0. 0. 5.]\n"
          ]
        }
      ],
      "source": [
        "Z = np.array([1,2,3,4,5])\n",
        "nz = 3\n",
        "Z0 = np.zeros(len(Z) + (len(Z)-1)*(nz))\n",
        "Z0[::nz+1] = Z\n",
        "print(Z0)"
      ]
    },
    {
      "cell_type": "markdown",
      "id": "a9a73d6b",
      "metadata": {
        "id": "a9a73d6b"
      },
      "source": [
        "#### 71. Consider an array of dimension (5,5,3), how to mulitply it by an array with dimensions (5,5)? (★★★)"
      ]
    },
    {
      "cell_type": "code",
      "execution_count": null,
      "id": "282a90cc",
      "metadata": {
        "id": "282a90cc",
        "colab": {
          "base_uri": "https://localhost:8080/"
        },
        "outputId": "09682b8e-3385-492a-fa8e-e0186d6f3ee2"
      },
      "outputs": [
        {
          "output_type": "stream",
          "name": "stdout",
          "text": [
            "[[[2. 2. 2.]\n",
            "  [2. 2. 2.]\n",
            "  [2. 2. 2.]\n",
            "  [2. 2. 2.]\n",
            "  [2. 2. 2.]]\n",
            "\n",
            " [[2. 2. 2.]\n",
            "  [2. 2. 2.]\n",
            "  [2. 2. 2.]\n",
            "  [2. 2. 2.]\n",
            "  [2. 2. 2.]]\n",
            "\n",
            " [[2. 2. 2.]\n",
            "  [2. 2. 2.]\n",
            "  [2. 2. 2.]\n",
            "  [2. 2. 2.]\n",
            "  [2. 2. 2.]]\n",
            "\n",
            " [[2. 2. 2.]\n",
            "  [2. 2. 2.]\n",
            "  [2. 2. 2.]\n",
            "  [2. 2. 2.]\n",
            "  [2. 2. 2.]]\n",
            "\n",
            " [[2. 2. 2.]\n",
            "  [2. 2. 2.]\n",
            "  [2. 2. 2.]\n",
            "  [2. 2. 2.]\n",
            "  [2. 2. 2.]]]\n"
          ]
        }
      ],
      "source": [
        "a = np.ones((5,5,3))\n",
        "b = 2*np.ones((5,5))\n",
        "print(a * b[:,:,None])"
      ]
    },
    {
      "cell_type": "markdown",
      "id": "a951c78f",
      "metadata": {
        "id": "a951c78f"
      },
      "source": [
        "#### 72. How to swap two rows of an array? (★★★)"
      ]
    },
    {
      "cell_type": "code",
      "execution_count": null,
      "id": "e29b3fde",
      "metadata": {
        "id": "e29b3fde",
        "colab": {
          "base_uri": "https://localhost:8080/"
        },
        "outputId": "836eab0a-d7cb-4fd2-c06a-63e223e95fbd"
      },
      "outputs": [
        {
          "output_type": "stream",
          "name": "stdout",
          "text": [
            "[[ 5  6  7  8  9]\n",
            " [ 0  1  2  3  4]\n",
            " [10 11 12 13 14]\n",
            " [15 16 17 18 19]\n",
            " [20 21 22 23 24]]\n"
          ]
        }
      ],
      "source": [
        "a = np.arange(25).reshape(5,5)\n",
        "a[[0,1]] = a[[1,0]]\n",
        "print(a)"
      ]
    },
    {
      "cell_type": "markdown",
      "id": "43b639e8",
      "metadata": {
        "id": "43b639e8"
      },
      "source": [
        "#### 73. Consider a set of 10 triplets describing 10 triangles (with shared vertices), find the set of unique line segments composing all the  triangles (★★★)"
      ]
    },
    {
      "cell_type": "code",
      "execution_count": null,
      "id": "147e1034",
      "metadata": {
        "id": "147e1034",
        "colab": {
          "base_uri": "https://localhost:8080/"
        },
        "outputId": "26d2896a-1e55-4722-9501-3a09bf872cd6"
      },
      "outputs": [
        {
          "output_type": "stream",
          "name": "stdout",
          "text": [
            "[( 0,  6) ( 0, 14) ( 6, 14) ( 8, 21) ( 8, 95) (20, 49) (20, 63) (21, 95)\n",
            " (24, 27) (24, 48) (27, 48) (27, 62) (27, 76) (30, 69) (30, 74) (32, 41)\n",
            " (32, 72) (36, 39) (36, 94) (37, 56) (37, 73) (39, 94) (41, 72) (49, 63)\n",
            " (53, 72) (53, 80) (56, 73) (62, 76) (69, 74) (72, 80)]\n"
          ]
        }
      ],
      "source": [
        "faces = np.random.randint(0,100,(10,3))\n",
        "F = np.roll(faces.repeat(2,axis=1),-1,axis=1)\n",
        "F = F.reshape(len(F)*3,2)\n",
        "F = np.sort(F,axis=1)\n",
        "G = F.view( dtype=[('p0',F.dtype),('p1',F.dtype)] )\n",
        "G = np.unique(G)\n",
        "print(G)"
      ]
    },
    {
      "cell_type": "markdown",
      "id": "d41de585",
      "metadata": {
        "id": "d41de585"
      },
      "source": [
        "#### 74. Given a sorted array C that corresponds to a bincount, how to produce an array A such that np.bincount(A) == C? (★★★)"
      ]
    },
    {
      "cell_type": "code",
      "execution_count": null,
      "id": "5f5d6e36",
      "metadata": {
        "id": "5f5d6e36",
        "colab": {
          "base_uri": "https://localhost:8080/"
        },
        "outputId": "89415600-1c90-477b-99b5-dce22c74e35f"
      },
      "outputs": [
        {
          "output_type": "stream",
          "name": "stdout",
          "text": [
            "[1 1 2 3 4 4 6]\n"
          ]
        }
      ],
      "source": [
        "C = np.bincount([1,1,2,3,4,4,6])\n",
        "A = np.repeat(np.arange(len(C)), C)\n",
        "print(A)"
      ]
    },
    {
      "cell_type": "markdown",
      "id": "b50adf7c",
      "metadata": {
        "id": "b50adf7c"
      },
      "source": [
        "#### 75. How to compute averages using a sliding window over an array? (★★★)"
      ]
    },
    {
      "cell_type": "code",
      "execution_count": null,
      "id": "e631a9d2",
      "metadata": {
        "id": "e631a9d2",
        "colab": {
          "base_uri": "https://localhost:8080/"
        },
        "outputId": "b697df70-71f8-4348-9360-9b7af59584dc"
      },
      "outputs": [
        {
          "output_type": "stream",
          "name": "stdout",
          "text": [
            "[ 1.  2.  3.  4.  5.  6.  7.  8.  9. 10. 11. 12. 13. 14. 15. 16. 17. 18.]\n"
          ]
        }
      ],
      "source": [
        "def moving_average(a, n=3) :\n",
        "    ret = np.cumsum(a, dtype=float)\n",
        "    ret[n:] = ret[n:] - ret[:-n]\n",
        "    return ret[n - 1:] / n\n",
        "a= np.arange(20)\n",
        "print(moving_average(a, n=3))"
      ]
    },
    {
      "cell_type": "markdown",
      "id": "1ab4c50d",
      "metadata": {
        "id": "1ab4c50d"
      },
      "source": [
        "#### 76. Consider a one-dimensional array Z, build a two-dimensional array whose first row is (Z[0],Z[1],Z[2]) and each subsequent row is  shifted by 1 (last row should be (Z[-3],Z[-2],Z[-1]) (★★★)"
      ]
    },
    {
      "cell_type": "code",
      "execution_count": null,
      "id": "3ccfe2c0",
      "metadata": {
        "id": "3ccfe2c0",
        "colab": {
          "base_uri": "https://localhost:8080/"
        },
        "outputId": "ff6f872e-9c48-47a9-ea47-97be695b2d55"
      },
      "outputs": [
        {
          "output_type": "stream",
          "name": "stdout",
          "text": [
            "[[0 1 2]\n",
            " [1 2 3]\n",
            " [2 3 4]\n",
            " [3 4 5]\n",
            " [4 5 6]\n",
            " [5 6 7]\n",
            " [6 7 8]\n",
            " [7 8 9]]\n"
          ]
        }
      ],
      "source": [
        "from numpy.lib import stride_tricks\n",
        "\n",
        "def rolling(a, window):\n",
        "    shape = (a.size - window + 1, window)\n",
        "    strides = (a.itemsize, a.itemsize)\n",
        "    return stride_tricks.as_strided(a, shape=shape, strides=strides)\n",
        "a = rolling(np.arange(10), 3)\n",
        "print(a)"
      ]
    },
    {
      "cell_type": "markdown",
      "id": "5b4fe59d",
      "metadata": {
        "id": "5b4fe59d"
      },
      "source": [
        "#### 77. How to negate a boolean, or to change the sign of a float inplace? (★★★)"
      ]
    },
    {
      "cell_type": "code",
      "execution_count": null,
      "id": "3c2373ff",
      "metadata": {
        "id": "3c2373ff",
        "colab": {
          "base_uri": "https://localhost:8080/"
        },
        "outputId": "8bcfaf6a-4dfb-443e-8ea1-2426a0cf1d28"
      },
      "outputs": [
        {
          "output_type": "execute_result",
          "data": {
            "text/plain": [
              "array([-0.44069697, -0.98723068,  0.59377607,  0.05533489,  0.81599638,\n",
              "        0.44428141,  0.19999404, -0.04333009,  0.00144243, -0.18811187,\n",
              "       -0.45057356, -0.25034887,  0.09477431,  0.680055  ,  0.4008489 ,\n",
              "       -0.24160205,  0.46644787, -0.75796799, -0.35484768, -0.40686993,\n",
              "       -0.08891339,  0.92586255, -0.40998694,  0.2002742 , -0.73836118,\n",
              "       -0.05559219,  0.05565892,  0.86955096, -0.59057417, -0.59805954,\n",
              "        0.93325034, -0.64539576,  0.8646884 ,  0.76024706, -0.69946054,\n",
              "       -0.11017558,  0.68188018,  0.39278937,  0.31306579, -0.05031708,\n",
              "        0.7393955 ,  0.35235619,  0.12816981,  0.12991227,  0.22624199,\n",
              "       -0.62580176, -0.01735711,  0.14127434,  0.87539369,  0.92799677,\n",
              "       -0.33961664, -0.33462102, -0.81104034,  0.19325567,  0.8101543 ,\n",
              "        0.33671395,  0.99654303,  0.33143445,  0.57223035,  0.37120139,\n",
              "        0.36848916,  0.41079884, -0.0044727 ,  0.22233562,  0.12856695,\n",
              "        0.97647582, -0.29098352, -0.16999438,  0.50849248,  0.99584578,\n",
              "        0.95029647, -0.40536324, -0.15608696,  0.64708356,  0.15678816,\n",
              "        0.33812527,  0.40782686, -0.48437088,  0.30361007,  0.04713303,\n",
              "       -0.583985  , -0.72406291, -0.29846884, -0.89864164,  0.9922649 ,\n",
              "       -0.70638068,  0.53961181,  0.67387316,  0.50133312,  0.84566432,\n",
              "        0.3104633 ,  0.17367072,  0.21706043,  0.34593604, -0.826963  ,\n",
              "        0.94026159,  0.68848304,  0.93835079, -0.03958623,  0.81278223])"
            ]
          },
          "metadata": {},
          "execution_count": 54
        }
      ],
      "source": [
        "Z = np.random.randint(0,2,100)\n",
        "np.logical_not(Z, out=Z)\n",
        "\n",
        "Z = np.random.uniform(-1.0,1.0,100)\n",
        "np.negative(Z, out=Z)"
      ]
    },
    {
      "cell_type": "markdown",
      "id": "119ab5af",
      "metadata": {
        "id": "119ab5af"
      },
      "source": [
        "#### 78. Consider 2 sets of points P0,P1 describing lines (2d) and a point p, how to compute distance from p to each line i (P0[i],P1[i])? (★★★)"
      ]
    },
    {
      "cell_type": "code",
      "execution_count": null,
      "id": "1d8d06dc",
      "metadata": {
        "id": "1d8d06dc",
        "colab": {
          "base_uri": "https://localhost:8080/"
        },
        "outputId": "4d4f1f1d-71ae-4a1b-e4c0-4d35775660d7"
      },
      "outputs": [
        {
          "output_type": "stream",
          "name": "stdout",
          "text": [
            "[ 3.79801877  5.60136539  6.83051342  3.32123486  4.73045244 10.05109105\n",
            "  5.31648823 10.70808515  2.21386379 10.83803889]\n"
          ]
        }
      ],
      "source": [
        "def distance(P0, P1, p):\n",
        "    T = P1 - P0\n",
        "    L = (T**2).sum(axis=1)\n",
        "    U = -((P0[:,0]-p[...,0])*T[:,0] + (P0[:,1]-p[...,1])*T[:,1]) / L\n",
        "    U = U.reshape(len(U),1)\n",
        "    D = P0 + U*T - p\n",
        "    return np.sqrt((D**2).sum(axis=1))\n",
        "\n",
        "P0 = np.random.uniform(-10,10,(10,2))\n",
        "P1 = np.random.uniform(-10,10,(10,2))\n",
        "p  = np.random.uniform(-10,10,( 1,2))\n",
        "print(distance(P0, P1, p))\n"
      ]
    },
    {
      "cell_type": "markdown",
      "id": "e5e7f323",
      "metadata": {
        "id": "e5e7f323"
      },
      "source": [
        "#### 79. Consider 2 sets of points P0,P1 describing lines (2d) and a set of points P, how to compute distance from each point j (P[j]) to each line i (P0[i],P1[i])? (★★★)"
      ]
    },
    {
      "cell_type": "code",
      "execution_count": null,
      "id": "d0ce77e2",
      "metadata": {
        "id": "d0ce77e2",
        "colab": {
          "base_uri": "https://localhost:8080/"
        },
        "outputId": "4c6a5ebb-e9f0-4bf1-fe1a-aa66f14a87ae"
      },
      "outputs": [
        {
          "output_type": "stream",
          "name": "stdout",
          "text": [
            "[[ 0.34780789  7.705222    5.94995663  4.46409697  8.96170837  5.78419998\n",
            "   1.95690918  2.95172226  4.77070108  0.96339374]\n",
            " [ 7.42832292 16.05991242  2.43035053 12.70688575 11.98715582  2.59590752\n",
            "   5.61396686  4.06217504  0.05150216  0.7266002 ]\n",
            " [ 2.32951299  5.4189307   7.43824311  1.09474797  1.61652131  7.31641518\n",
            "   7.88795529  1.73838333  3.32502652 11.78293141]\n",
            " [ 8.02034709  2.20403196 15.62984302  5.67178023  2.2272231  15.47804148\n",
            "  12.18175154  9.13804589  7.33909098  4.71443447]\n",
            " [ 2.87194408  7.45627127  5.62145775  3.41856485  1.8682677   5.4872868\n",
            "   4.95446173  1.58663139  1.83112825  8.69518672]\n",
            " [ 8.84373756 15.11273909  1.86508175 11.24004365  6.98337382  2.00963669\n",
            "   2.9108784   6.42643632  3.90067568  5.89436537]\n",
            " [ 0.8451575   4.68350409  8.59309546  0.94629725  3.1699162   8.44845712\n",
            "   6.55446573  2.30415292  1.95494753  6.23050861]\n",
            " [ 0.8203387   5.06677627  8.26425228  1.4013603   3.9821842   8.11658508\n",
            "   5.9405842   2.43892155  2.38684549  5.47679191]\n",
            " [10.87039926  2.29284303 16.18253889  5.11802735  7.81031641 16.00540498\n",
            "  10.03966827 13.01904224 12.79536957  1.47676106]\n",
            " [ 6.01195626  1.48358156 14.68306085  5.27103709  0.22644824 14.54352186\n",
            "  12.60333826  6.69308161  4.31867956  7.68822239]]\n"
          ]
        }
      ],
      "source": [
        "P0 = np.random.uniform(-10, 10, (10,2))\n",
        "P1 = np.random.uniform(-10,10,(10,2))\n",
        "p = np.random.uniform(-10, 10, (10,2))\n",
        "print(np.array([distance(P0,P1,p_i) for p_i in p]))"
      ]
    },
    {
      "cell_type": "markdown",
      "id": "9b9d03eb",
      "metadata": {
        "id": "9b9d03eb"
      },
      "source": [
        "#### 80. Consider an arbitrary array, write a function that extract a subpart with a fixed shape and centered on a given element (pad with a `fill` value when necessary) (★★★)"
      ]
    },
    {
      "cell_type": "code",
      "execution_count": null,
      "id": "ec2b7ae3",
      "metadata": {
        "id": "ec2b7ae3",
        "colab": {
          "base_uri": "https://localhost:8080/",
          "height": 262
        },
        "outputId": "0cc048f3-22f7-48f3-d48f-891825f96cc4"
      },
      "outputs": [
        {
          "output_type": "error",
          "ename": "IndexError",
          "evalue": "ignored",
          "traceback": [
            "\u001b[0;31m---------------------------------------------------------------------------\u001b[0m",
            "\u001b[0;31mIndexError\u001b[0m                                Traceback (most recent call last)",
            "\u001b[0;32m<ipython-input-59-f2b5781f38bf>\u001b[0m in \u001b[0;36m<cell line: 23>\u001b[0;34m()\u001b[0m\n\u001b[1;32m     21\u001b[0m \u001b[0mr\u001b[0m \u001b[0;34m=\u001b[0m \u001b[0;34m[\u001b[0m\u001b[0mslice\u001b[0m\u001b[0;34m(\u001b[0m\u001b[0mstart\u001b[0m\u001b[0;34m,\u001b[0m\u001b[0mstop\u001b[0m\u001b[0;34m)\u001b[0m \u001b[0;32mfor\u001b[0m \u001b[0mstart\u001b[0m\u001b[0;34m,\u001b[0m\u001b[0mstop\u001b[0m \u001b[0;32min\u001b[0m \u001b[0mzip\u001b[0m\u001b[0;34m(\u001b[0m\u001b[0mR_start\u001b[0m\u001b[0;34m,\u001b[0m\u001b[0mR_stop\u001b[0m\u001b[0;34m)\u001b[0m\u001b[0;34m]\u001b[0m\u001b[0;34m\u001b[0m\u001b[0;34m\u001b[0m\u001b[0m\n\u001b[1;32m     22\u001b[0m \u001b[0mz\u001b[0m \u001b[0;34m=\u001b[0m \u001b[0;34m[\u001b[0m\u001b[0mslice\u001b[0m\u001b[0;34m(\u001b[0m\u001b[0mstart\u001b[0m\u001b[0;34m,\u001b[0m\u001b[0mstop\u001b[0m\u001b[0;34m)\u001b[0m \u001b[0;32mfor\u001b[0m \u001b[0mstart\u001b[0m\u001b[0;34m,\u001b[0m\u001b[0mstop\u001b[0m \u001b[0;32min\u001b[0m \u001b[0mzip\u001b[0m\u001b[0;34m(\u001b[0m\u001b[0mZ_start\u001b[0m\u001b[0;34m,\u001b[0m\u001b[0mZ_stop\u001b[0m\u001b[0;34m)\u001b[0m\u001b[0;34m]\u001b[0m\u001b[0;34m\u001b[0m\u001b[0;34m\u001b[0m\u001b[0m\n\u001b[0;32m---> 23\u001b[0;31m \u001b[0mR\u001b[0m\u001b[0;34m[\u001b[0m\u001b[0mr\u001b[0m\u001b[0;34m]\u001b[0m \u001b[0;34m=\u001b[0m \u001b[0mZ\u001b[0m\u001b[0;34m[\u001b[0m\u001b[0mz\u001b[0m\u001b[0;34m]\u001b[0m\u001b[0;34m\u001b[0m\u001b[0;34m\u001b[0m\u001b[0m\n\u001b[0m\u001b[1;32m     24\u001b[0m \u001b[0mprint\u001b[0m\u001b[0;34m(\u001b[0m\u001b[0mZ\u001b[0m\u001b[0;34m)\u001b[0m\u001b[0;34m\u001b[0m\u001b[0;34m\u001b[0m\u001b[0m\n\u001b[1;32m     25\u001b[0m \u001b[0mprint\u001b[0m\u001b[0;34m(\u001b[0m\u001b[0mR\u001b[0m\u001b[0;34m)\u001b[0m\u001b[0;34m\u001b[0m\u001b[0;34m\u001b[0m\u001b[0m\n",
            "\u001b[0;31mIndexError\u001b[0m: only integers, slices (`:`), ellipsis (`...`), numpy.newaxis (`None`) and integer or boolean arrays are valid indices"
          ]
        }
      ],
      "source": [
        "Z = np.random.randint(0,10,(10,10))\n",
        "shape = (5,5)\n",
        "fill  = 0\n",
        "position = (1,1)\n",
        "\n",
        "R = np.ones(shape, dtype=Z.dtype)*fill\n",
        "P  = np.array(list(position)).astype(int)\n",
        "Rs = np.array(list(R.shape)).astype(int)\n",
        "Zs = np.array(list(Z.shape)).astype(int)\n",
        "\n",
        "R_start = np.zeros((len(shape),)).astype(int)\n",
        "R_stop  = np.array(list(shape)).astype(int)\n",
        "Z_start = (P-Rs//2)\n",
        "Z_stop  = (P+Rs//2)+Rs%2\n",
        "\n",
        "R_start = (R_start - np.minimum(Z_start,0)).tolist()\n",
        "Z_start = (np.maximum(Z_start,0)).tolist()\n",
        "R_stop = np.maximum(R_start, (R_stop - np.maximum(Z_stop-Zs,0))).tolist()\n",
        "Z_stop = (np.minimum(Z_stop,Zs)).tolist()\n",
        "\n",
        "r = [slice(start,stop) for start,stop in zip(R_start,R_stop)]\n",
        "z = [slice(start,stop) for start,stop in zip(Z_start,Z_stop)]\n",
        "R[r] = Z[z]\n",
        "print(Z)\n",
        "print(R)"
      ]
    },
    {
      "cell_type": "markdown",
      "id": "27794913",
      "metadata": {
        "id": "27794913"
      },
      "source": [
        "#### 81. Consider an array Z = [1,2,3,4,5,6,7,8,9,10,11,12,13,14], how to generate an array R = [[1,2,3,4], [2,3,4,5], [3,4,5,6], ..., [11,12,13,14]]? (★★★)"
      ]
    },
    {
      "cell_type": "code",
      "execution_count": null,
      "id": "f3e7878b",
      "metadata": {
        "id": "f3e7878b",
        "colab": {
          "base_uri": "https://localhost:8080/"
        },
        "outputId": "992e1007-7cdd-4394-9b4e-fe962e334a6e"
      },
      "outputs": [
        {
          "output_type": "stream",
          "name": "stdout",
          "text": [
            "[[          6 34359738368           8 34359738368]\n",
            " [34359738368           8 34359738368           8]\n",
            " [          8 34359738368           8           0]\n",
            " [34359738368           8           0           0]\n",
            " [          8           0           0 12884901888]\n",
            " [          0           0 12884901888           3]\n",
            " [          0 12884901888           3 25769803776]\n",
            " [12884901888           3 25769803776           6]\n",
            " [          3 25769803776           6 12884901888]\n",
            " [25769803776           6 12884901888           3]\n",
            " [          6 12884901888           3 12884901888]]\n"
          ]
        }
      ],
      "source": [
        "a= np.arange(1,15,dtype=np.uint32)\n",
        "b = stride_tricks.as_strided(Z,(11,4),(4,4))\n",
        "print(b)"
      ]
    },
    {
      "cell_type": "markdown",
      "id": "fae786f5",
      "metadata": {
        "id": "fae786f5"
      },
      "source": [
        "#### 82. Compute a matrix rank (★★★)"
      ]
    },
    {
      "cell_type": "code",
      "execution_count": null,
      "id": "64b9615b",
      "metadata": {
        "id": "64b9615b",
        "colab": {
          "base_uri": "https://localhost:8080/"
        },
        "outputId": "0d6edaa2-5828-49a3-f62c-c7b9db688ad8"
      },
      "outputs": [
        {
          "output_type": "stream",
          "name": "stdout",
          "text": [
            "10\n"
          ]
        }
      ],
      "source": [
        "Z = np.random.uniform(0,1,(10,10))\n",
        "U, S, V = np.linalg.svd(Z) # Singular Value Decomposition\n",
        "rank = np.sum(S > 1e-10)\n",
        "print(rank)"
      ]
    },
    {
      "cell_type": "markdown",
      "id": "c85aa0b9",
      "metadata": {
        "id": "c85aa0b9"
      },
      "source": [
        "#### 83. How to find the most frequent value in an array?"
      ]
    },
    {
      "cell_type": "code",
      "execution_count": null,
      "id": "056be85b",
      "metadata": {
        "id": "056be85b",
        "colab": {
          "base_uri": "https://localhost:8080/"
        },
        "outputId": "68b3ca54-782c-4b5d-b489-033b52004352"
      },
      "outputs": [
        {
          "output_type": "stream",
          "name": "stdout",
          "text": [
            "9\n"
          ]
        }
      ],
      "source": [
        "Z = np.random.randint(0,10,50)\n",
        "print(np.bincount(Z).argmax())"
      ]
    },
    {
      "cell_type": "markdown",
      "id": "0ff2344d",
      "metadata": {
        "id": "0ff2344d"
      },
      "source": [
        "#### 84. Extract all the contiguous 3x3 blocks from a random 10x10 matrix (★★★)"
      ]
    },
    {
      "cell_type": "code",
      "execution_count": null,
      "id": "d58b1318",
      "metadata": {
        "id": "d58b1318",
        "colab": {
          "base_uri": "https://localhost:8080/"
        },
        "outputId": "2057f32f-8cc2-45ee-a417-fe2bce4c0216"
      },
      "outputs": [
        {
          "output_type": "stream",
          "name": "stdout",
          "text": [
            "[[[[4 0 2]\n",
            "   [3 2 2]\n",
            "   [4 0 0]]\n",
            "\n",
            "  [[0 2 4]\n",
            "   [2 2 2]\n",
            "   [0 0 1]]\n",
            "\n",
            "  [[2 4 2]\n",
            "   [2 2 4]\n",
            "   [0 1 0]]\n",
            "\n",
            "  [[4 2 2]\n",
            "   [2 4 2]\n",
            "   [1 0 4]]\n",
            "\n",
            "  [[2 2 0]\n",
            "   [4 2 4]\n",
            "   [0 4 1]]\n",
            "\n",
            "  [[2 0 0]\n",
            "   [2 4 0]\n",
            "   [4 1 3]]\n",
            "\n",
            "  [[0 0 1]\n",
            "   [4 0 2]\n",
            "   [1 3 1]]\n",
            "\n",
            "  [[0 1 0]\n",
            "   [0 2 2]\n",
            "   [3 1 2]]]\n",
            "\n",
            "\n",
            " [[[3 2 2]\n",
            "   [4 0 0]\n",
            "   [3 2 2]]\n",
            "\n",
            "  [[2 2 2]\n",
            "   [0 0 1]\n",
            "   [2 2 2]]\n",
            "\n",
            "  [[2 2 4]\n",
            "   [0 1 0]\n",
            "   [2 2 2]]\n",
            "\n",
            "  [[2 4 2]\n",
            "   [1 0 4]\n",
            "   [2 2 2]]\n",
            "\n",
            "  [[4 2 4]\n",
            "   [0 4 1]\n",
            "   [2 2 0]]\n",
            "\n",
            "  [[2 4 0]\n",
            "   [4 1 3]\n",
            "   [2 0 4]]\n",
            "\n",
            "  [[4 0 2]\n",
            "   [1 3 1]\n",
            "   [0 4 0]]\n",
            "\n",
            "  [[0 2 2]\n",
            "   [3 1 2]\n",
            "   [4 0 4]]]\n",
            "\n",
            "\n",
            " [[[4 0 0]\n",
            "   [3 2 2]\n",
            "   [0 0 1]]\n",
            "\n",
            "  [[0 0 1]\n",
            "   [2 2 2]\n",
            "   [0 1 2]]\n",
            "\n",
            "  [[0 1 0]\n",
            "   [2 2 2]\n",
            "   [1 2 3]]\n",
            "\n",
            "  [[1 0 4]\n",
            "   [2 2 2]\n",
            "   [2 3 4]]\n",
            "\n",
            "  [[0 4 1]\n",
            "   [2 2 0]\n",
            "   [3 4 2]]\n",
            "\n",
            "  [[4 1 3]\n",
            "   [2 0 4]\n",
            "   [4 2 1]]\n",
            "\n",
            "  [[1 3 1]\n",
            "   [0 4 0]\n",
            "   [2 1 2]]\n",
            "\n",
            "  [[3 1 2]\n",
            "   [4 0 4]\n",
            "   [1 2 3]]]\n",
            "\n",
            "\n",
            " [[[3 2 2]\n",
            "   [0 0 1]\n",
            "   [0 3 3]]\n",
            "\n",
            "  [[2 2 2]\n",
            "   [0 1 2]\n",
            "   [3 3 2]]\n",
            "\n",
            "  [[2 2 2]\n",
            "   [1 2 3]\n",
            "   [3 2 2]]\n",
            "\n",
            "  [[2 2 2]\n",
            "   [2 3 4]\n",
            "   [2 2 0]]\n",
            "\n",
            "  [[2 2 0]\n",
            "   [3 4 2]\n",
            "   [2 0 3]]\n",
            "\n",
            "  [[2 0 4]\n",
            "   [4 2 1]\n",
            "   [0 3 3]]\n",
            "\n",
            "  [[0 4 0]\n",
            "   [2 1 2]\n",
            "   [3 3 0]]\n",
            "\n",
            "  [[4 0 4]\n",
            "   [1 2 3]\n",
            "   [3 0 0]]]\n",
            "\n",
            "\n",
            " [[[0 0 1]\n",
            "   [0 3 3]\n",
            "   [0 0 2]]\n",
            "\n",
            "  [[0 1 2]\n",
            "   [3 3 2]\n",
            "   [0 2 0]]\n",
            "\n",
            "  [[1 2 3]\n",
            "   [3 2 2]\n",
            "   [2 0 0]]\n",
            "\n",
            "  [[2 3 4]\n",
            "   [2 2 0]\n",
            "   [0 0 4]]\n",
            "\n",
            "  [[3 4 2]\n",
            "   [2 0 3]\n",
            "   [0 4 3]]\n",
            "\n",
            "  [[4 2 1]\n",
            "   [0 3 3]\n",
            "   [4 3 3]]\n",
            "\n",
            "  [[2 1 2]\n",
            "   [3 3 0]\n",
            "   [3 3 1]]\n",
            "\n",
            "  [[1 2 3]\n",
            "   [3 0 0]\n",
            "   [3 1 0]]]\n",
            "\n",
            "\n",
            " [[[0 3 3]\n",
            "   [0 0 2]\n",
            "   [1 3 4]]\n",
            "\n",
            "  [[3 3 2]\n",
            "   [0 2 0]\n",
            "   [3 4 4]]\n",
            "\n",
            "  [[3 2 2]\n",
            "   [2 0 0]\n",
            "   [4 4 4]]\n",
            "\n",
            "  [[2 2 0]\n",
            "   [0 0 4]\n",
            "   [4 4 0]]\n",
            "\n",
            "  [[2 0 3]\n",
            "   [0 4 3]\n",
            "   [4 0 3]]\n",
            "\n",
            "  [[0 3 3]\n",
            "   [4 3 3]\n",
            "   [0 3 1]]\n",
            "\n",
            "  [[3 3 0]\n",
            "   [3 3 1]\n",
            "   [3 1 1]]\n",
            "\n",
            "  [[3 0 0]\n",
            "   [3 1 0]\n",
            "   [1 1 4]]]\n",
            "\n",
            "\n",
            " [[[0 0 2]\n",
            "   [1 3 4]\n",
            "   [2 1 3]]\n",
            "\n",
            "  [[0 2 0]\n",
            "   [3 4 4]\n",
            "   [1 3 4]]\n",
            "\n",
            "  [[2 0 0]\n",
            "   [4 4 4]\n",
            "   [3 4 1]]\n",
            "\n",
            "  [[0 0 4]\n",
            "   [4 4 0]\n",
            "   [4 1 2]]\n",
            "\n",
            "  [[0 4 3]\n",
            "   [4 0 3]\n",
            "   [1 2 0]]\n",
            "\n",
            "  [[4 3 3]\n",
            "   [0 3 1]\n",
            "   [2 0 4]]\n",
            "\n",
            "  [[3 3 1]\n",
            "   [3 1 1]\n",
            "   [0 4 3]]\n",
            "\n",
            "  [[3 1 0]\n",
            "   [1 1 4]\n",
            "   [4 3 1]]]\n",
            "\n",
            "\n",
            " [[[1 3 4]\n",
            "   [2 1 3]\n",
            "   [2 2 3]]\n",
            "\n",
            "  [[3 4 4]\n",
            "   [1 3 4]\n",
            "   [2 3 0]]\n",
            "\n",
            "  [[4 4 4]\n",
            "   [3 4 1]\n",
            "   [3 0 4]]\n",
            "\n",
            "  [[4 4 0]\n",
            "   [4 1 2]\n",
            "   [0 4 0]]\n",
            "\n",
            "  [[4 0 3]\n",
            "   [1 2 0]\n",
            "   [4 0 1]]\n",
            "\n",
            "  [[0 3 1]\n",
            "   [2 0 4]\n",
            "   [0 1 4]]\n",
            "\n",
            "  [[3 1 1]\n",
            "   [0 4 3]\n",
            "   [1 4 3]]\n",
            "\n",
            "  [[1 1 4]\n",
            "   [4 3 1]\n",
            "   [4 3 0]]]]\n"
          ]
        }
      ],
      "source": [
        "Z = np.random.randint(0,5,(10,10))\n",
        "n = 3\n",
        "i = 1 + (Z.shape[0]-3)\n",
        "j = 1 + (Z.shape[1]-3)\n",
        "C = stride_tricks.as_strided(Z, shape=(i, j, n, n), strides=Z.strides + Z.strides)\n",
        "print(C)"
      ]
    },
    {
      "cell_type": "markdown",
      "id": "1a18b263",
      "metadata": {
        "id": "1a18b263"
      },
      "source": [
        "#### 85. Create a 2D array subclass such that Z[i,j] == Z[j,i] (★★★)"
      ]
    },
    {
      "cell_type": "code",
      "execution_count": null,
      "id": "87f17adc",
      "metadata": {
        "id": "87f17adc",
        "colab": {
          "base_uri": "https://localhost:8080/"
        },
        "outputId": "9450ad59-9212-4325-84fe-aa07377cde7b"
      },
      "outputs": [
        {
          "output_type": "stream",
          "name": "stdout",
          "text": [
            "[[ 9  8 11 15  4]\n",
            " [ 8  2 13 10 13]\n",
            " [11 13  7 42  6]\n",
            " [15 10 42  0  7]\n",
            " [ 4 13  6  7  4]]\n"
          ]
        }
      ],
      "source": [
        "class Symetric(np.ndarray):\n",
        "    def __setitem__(self, index, value):\n",
        "        i,j = index\n",
        "        super(Symetric, self).__setitem__((i,j), value)\n",
        "        super(Symetric, self).__setitem__((j,i), value)\n",
        "\n",
        "def symetric(Z):\n",
        "    return np.asarray(Z + Z.T - np.diag(Z.diagonal())).view(Symetric)\n",
        "\n",
        "S = symetric(np.random.randint(0,10,(5,5)))\n",
        "S[2,3] = 42\n",
        "print(S)"
      ]
    },
    {
      "cell_type": "markdown",
      "id": "f85f2cad",
      "metadata": {
        "id": "f85f2cad"
      },
      "source": [
        "#### 86. Consider a set of p matrices wich shape (n,n) and a set of p vectors with shape (n,1). How to compute the sum of of the p matrix products at once? (result has shape (n,1)) (★★★)"
      ]
    },
    {
      "cell_type": "code",
      "execution_count": null,
      "id": "8d230557",
      "metadata": {
        "id": "8d230557",
        "colab": {
          "base_uri": "https://localhost:8080/"
        },
        "outputId": "91d20ea2-54f9-4b15-f811-02564ddf61bf"
      },
      "outputs": [
        {
          "output_type": "stream",
          "name": "stdout",
          "text": [
            "[[200.]\n",
            " [200.]\n",
            " [200.]\n",
            " [200.]\n",
            " [200.]\n",
            " [200.]\n",
            " [200.]\n",
            " [200.]\n",
            " [200.]\n",
            " [200.]\n",
            " [200.]\n",
            " [200.]\n",
            " [200.]\n",
            " [200.]\n",
            " [200.]\n",
            " [200.]\n",
            " [200.]\n",
            " [200.]\n",
            " [200.]\n",
            " [200.]]\n"
          ]
        }
      ],
      "source": [
        "p, n = 10, 20\n",
        "M = np.ones((p,n,n))\n",
        "V = np.ones((p,n,1))\n",
        "S = np.tensordot(M, V, axes=[[0, 2], [0, 1]])\n",
        "print(S)\n"
      ]
    },
    {
      "cell_type": "markdown",
      "id": "5afb72c8",
      "metadata": {
        "id": "5afb72c8"
      },
      "source": [
        "#### 87. Consider a 16x16 array, how to get the block-sum (block size is 4x4)? (★★★)"
      ]
    },
    {
      "cell_type": "code",
      "execution_count": null,
      "id": "e86f47a9",
      "metadata": {
        "id": "e86f47a9",
        "colab": {
          "base_uri": "https://localhost:8080/"
        },
        "outputId": "fc6295d0-ddcd-45ea-e595-cd6cf253ba44"
      },
      "outputs": [
        {
          "output_type": "stream",
          "name": "stdout",
          "text": [
            "[[16. 16. 16. 16.]\n",
            " [16. 16. 16. 16.]\n",
            " [16. 16. 16. 16.]\n",
            " [16. 16. 16. 16.]]\n"
          ]
        }
      ],
      "source": [
        "Z = np.ones((16,16))\n",
        "k = 4\n",
        "S = np.add.reduceat(np.add.reduceat(Z, np.arange(0, Z.shape[0], k), axis=0), np.arange(0, Z.shape[1], k), axis=1)\n",
        "print(S)"
      ]
    },
    {
      "cell_type": "markdown",
      "id": "6094d37c",
      "metadata": {
        "id": "6094d37c"
      },
      "source": [
        "#### 88. How to implement the Game of Life using numpy arrays? (★★★)"
      ]
    },
    {
      "cell_type": "code",
      "execution_count": null,
      "id": "a93e715f",
      "metadata": {
        "id": "a93e715f",
        "colab": {
          "base_uri": "https://localhost:8080/"
        },
        "outputId": "6bd22de1-764d-432b-c613-63bab1587220"
      },
      "outputs": [
        {
          "output_type": "stream",
          "name": "stdout",
          "text": [
            "[[0 0 0 ... 0 0 0]\n",
            " [0 0 0 ... 0 0 0]\n",
            " [0 0 0 ... 0 0 0]\n",
            " ...\n",
            " [0 0 0 ... 0 0 0]\n",
            " [0 0 0 ... 0 0 0]\n",
            " [0 0 0 ... 0 0 0]]\n"
          ]
        }
      ],
      "source": [
        "def iterate(Z):\n",
        "    # Count neighbours\n",
        "    N = (Z[0:-2,0:-2] + Z[0:-2,1:-1] + Z[0:-2,2:] +\n",
        "         Z[1:-1,0:-2]                + Z[1:-1,2:] +\n",
        "         Z[2:  ,0:-2] + Z[2:  ,1:-1] + Z[2:  ,2:])\n",
        "\n",
        "    # Apply rules\n",
        "    birth = (N==3) & (Z[1:-1,1:-1]==0)\n",
        "    survive = ((N==2) | (N==3)) & (Z[1:-1,1:-1]==1)\n",
        "    Z[...] = 0\n",
        "    Z[1:-1,1:-1][birth | survive] = 1\n",
        "    return Z\n",
        "\n",
        "Z = np.random.randint(0,2,(50,50))\n",
        "for i in range(100): Z = iterate(Z)\n",
        "print(Z)"
      ]
    },
    {
      "cell_type": "markdown",
      "id": "a173cf96",
      "metadata": {
        "id": "a173cf96"
      },
      "source": [
        "#### 89. How to get the n largest values of an array (★★★)"
      ]
    },
    {
      "cell_type": "code",
      "execution_count": null,
      "id": "b7c2ff35",
      "metadata": {
        "id": "b7c2ff35",
        "colab": {
          "base_uri": "https://localhost:8080/"
        },
        "outputId": "02b10cf5-4f25-4f19-cbe3-f6193481cabc"
      },
      "outputs": [
        {
          "output_type": "stream",
          "name": "stdout",
          "text": [
            "[9995 9996 9997 9998 9999]\n",
            "[9997 9996 9999 9995 9998]\n"
          ]
        }
      ],
      "source": [
        "Z = np.arange(10000)\n",
        "np.random.shuffle(Z)\n",
        "n = 5\n",
        "\n",
        "# Slow\n",
        "print (Z[np.argsort(Z)[-n:]])\n",
        "\n",
        "# Fast\n",
        "print (Z[np.argpartition(-Z,n)[:n]])"
      ]
    },
    {
      "cell_type": "markdown",
      "id": "15db2d01",
      "metadata": {
        "id": "15db2d01"
      },
      "source": [
        "#### 90. Given an arbitrary number of vectors, build the cartesian product (every combinations of every item) (★★★)"
      ]
    },
    {
      "cell_type": "code",
      "execution_count": null,
      "id": "a9a4633d",
      "metadata": {
        "id": "a9a4633d",
        "colab": {
          "base_uri": "https://localhost:8080/"
        },
        "outputId": "c61f761d-b74c-43f6-e0db-15bf6317be65"
      },
      "outputs": [
        {
          "output_type": "stream",
          "name": "stdout",
          "text": [
            "[[1 4 6]\n",
            " [1 4 7]\n",
            " [1 5 6]\n",
            " [1 5 7]\n",
            " [2 4 6]\n",
            " [2 4 7]\n",
            " [2 5 6]\n",
            " [2 5 7]\n",
            " [3 4 6]\n",
            " [3 4 7]\n",
            " [3 5 6]\n",
            " [3 5 7]]\n"
          ]
        }
      ],
      "source": [
        "def cartesian(arrays):\n",
        "    arrays = [np.asarray(a) for a in arrays]\n",
        "    shape = (len(x) for x in arrays)\n",
        "\n",
        "    ix = np.indices(shape, dtype=int)\n",
        "    ix = ix.reshape(len(arrays), -1).T\n",
        "\n",
        "    for n, arr in enumerate(arrays):\n",
        "        ix[:, n] = arrays[n][ix[:, n]]\n",
        "\n",
        "    return ix\n",
        "\n",
        "print (cartesian(([1, 2, 3], [4, 5], [6, 7])))"
      ]
    },
    {
      "cell_type": "markdown",
      "id": "5d94d1ef",
      "metadata": {
        "id": "5d94d1ef"
      },
      "source": [
        "#### 91. How to create a record array from a regular array? (★★★)"
      ]
    },
    {
      "cell_type": "code",
      "execution_count": null,
      "id": "b1dae380",
      "metadata": {
        "id": "b1dae380",
        "colab": {
          "base_uri": "https://localhost:8080/"
        },
        "outputId": "c5546335-44c1-4c7e-c170-a5dabfb753c4"
      },
      "outputs": [
        {
          "output_type": "stream",
          "name": "stdout",
          "text": [
            "[(b'Hello', 2.5, 3) (b'World', 3.6, 2)]\n"
          ]
        }
      ],
      "source": [
        "Z = np.array([(\"Hello\", 2.5, 3),\n",
        "              (\"World\", 3.6, 2)])\n",
        "R = np.core.records.fromarrays(Z.T,\n",
        "                               names='col1, col2, col3',\n",
        "                               formats = 'S8, f8, i8')\n",
        "print(R)"
      ]
    },
    {
      "cell_type": "markdown",
      "id": "114ccc36",
      "metadata": {
        "id": "114ccc36"
      },
      "source": [
        "#### 92. Consider a large vector Z, compute Z to the power of 3 using 3 different methods (★★★)"
      ]
    },
    {
      "cell_type": "code",
      "execution_count": null,
      "id": "877c65d6",
      "metadata": {
        "id": "877c65d6",
        "colab": {
          "base_uri": "https://localhost:8080/",
          "height": 349
        },
        "outputId": "ae3f2267-bbcc-4670-ee71-83565c052166"
      },
      "outputs": [
        {
          "output_type": "error",
          "ename": "TypeError",
          "evalue": "ignored",
          "traceback": [
            "\u001b[0;31m---------------------------------------------------------------------------\u001b[0m",
            "\u001b[0;31mTypeError\u001b[0m                                 Traceback (most recent call last)",
            "\u001b[0;32m<ipython-input-71-a370807230cb>\u001b[0m in \u001b[0;36m<cell line: 1>\u001b[0;34m()\u001b[0m\n\u001b[0;32m----> 1\u001b[0;31m \u001b[0mx\u001b[0m \u001b[0;34m=\u001b[0m \u001b[0mnp\u001b[0m\u001b[0;34m.\u001b[0m\u001b[0mrandom\u001b[0m\u001b[0;34m.\u001b[0m\u001b[0mrand\u001b[0m\u001b[0;34m(\u001b[0m\u001b[0;36m5e7\u001b[0m\u001b[0;34m)\u001b[0m\u001b[0;34m\u001b[0m\u001b[0;34m\u001b[0m\u001b[0m\n\u001b[0m\u001b[1;32m      2\u001b[0m \u001b[0;34m\u001b[0m\u001b[0m\n\u001b[1;32m      3\u001b[0m \u001b[0mget_ipython\u001b[0m\u001b[0;34m(\u001b[0m\u001b[0;34m)\u001b[0m\u001b[0;34m.\u001b[0m\u001b[0mrun_line_magic\u001b[0m\u001b[0;34m(\u001b[0m\u001b[0;34m'timeit'\u001b[0m\u001b[0;34m,\u001b[0m \u001b[0;34m'np.power(x,3)'\u001b[0m\u001b[0;34m)\u001b[0m\u001b[0;34m\u001b[0m\u001b[0;34m\u001b[0m\u001b[0m\n\u001b[1;32m      4\u001b[0m \u001b[0mget_ipython\u001b[0m\u001b[0;34m(\u001b[0m\u001b[0;34m)\u001b[0m\u001b[0;34m.\u001b[0m\u001b[0mrun_line_magic\u001b[0m\u001b[0;34m(\u001b[0m\u001b[0;34m'timeit'\u001b[0m\u001b[0;34m,\u001b[0m \u001b[0;34m'x*x*x'\u001b[0m\u001b[0;34m)\u001b[0m\u001b[0;34m\u001b[0m\u001b[0;34m\u001b[0m\u001b[0m\n\u001b[1;32m      5\u001b[0m \u001b[0mget_ipython\u001b[0m\u001b[0;34m(\u001b[0m\u001b[0;34m)\u001b[0m\u001b[0;34m.\u001b[0m\u001b[0mrun_line_magic\u001b[0m\u001b[0;34m(\u001b[0m\u001b[0;34m'timeit'\u001b[0m\u001b[0;34m,\u001b[0m \u001b[0;34m\"np.einsum('i,i,i->i',x,x,x)\"\u001b[0m\u001b[0;34m)\u001b[0m\u001b[0;34m\u001b[0m\u001b[0;34m\u001b[0m\u001b[0m\n",
            "\u001b[0;32mmtrand.pyx\u001b[0m in \u001b[0;36mnumpy.random.mtrand.RandomState.rand\u001b[0;34m()\u001b[0m\n",
            "\u001b[0;32mmtrand.pyx\u001b[0m in \u001b[0;36mnumpy.random.mtrand.RandomState.random_sample\u001b[0;34m()\u001b[0m\n",
            "\u001b[0;32m_common.pyx\u001b[0m in \u001b[0;36mnumpy.random._common.double_fill\u001b[0;34m()\u001b[0m\n",
            "\u001b[0;31mTypeError\u001b[0m: 'float' object cannot be interpreted as an integer"
          ]
        }
      ],
      "source": [
        "x = np.random.rand(5e7)\n",
        "\n",
        "%timeit np.power(x,3)\n",
        "%timeit x*x*x\n",
        "%timeit np.einsum('i,i,i->i',x,x,x)"
      ]
    },
    {
      "cell_type": "markdown",
      "id": "d614fee4",
      "metadata": {
        "id": "d614fee4"
      },
      "source": [
        "#### 93. Consider two arrays A and B of shape (8,3) and (2,2). How to find rows of A that contain elements of each row of B regardless of the order of the elements in B? (★★★)"
      ]
    },
    {
      "cell_type": "code",
      "execution_count": null,
      "id": "e6807a84",
      "metadata": {
        "id": "e6807a84",
        "colab": {
          "base_uri": "https://localhost:8080/"
        },
        "outputId": "fcf49f04-d0e1-4f39-a7cc-e61cd1c250c4"
      },
      "outputs": [
        {
          "output_type": "stream",
          "name": "stdout",
          "text": [
            "[0 1 2 3 6 7]\n"
          ]
        }
      ],
      "source": [
        "A = np.random.randint(0,5,(8,3))\n",
        "B = np.random.randint(0,5,(2,2))\n",
        "\n",
        "C = (A[..., np.newaxis, np.newaxis] == B)\n",
        "rows = np.where(C.any((3,1)).all(1))[0]\n",
        "print(rows)"
      ]
    },
    {
      "cell_type": "markdown",
      "id": "b0eedca6",
      "metadata": {
        "id": "b0eedca6"
      },
      "source": [
        "#### 94. Considering a 10x3 matrix, extract rows with unequal values (e.g. [2,2,3]) (★★★)"
      ]
    },
    {
      "cell_type": "code",
      "execution_count": null,
      "id": "fc136ce2",
      "metadata": {
        "id": "fc136ce2",
        "colab": {
          "base_uri": "https://localhost:8080/"
        },
        "outputId": "79632b29-bdae-45d9-98c6-cad6c6996211"
      },
      "outputs": [
        {
          "output_type": "stream",
          "name": "stdout",
          "text": [
            "[[0 3 1]\n",
            " [2 0 0]\n",
            " [1 3 1]\n",
            " [4 2 4]\n",
            " [0 1 2]\n",
            " [2 1 0]\n",
            " [0 3 3]\n",
            " [2 4 0]\n",
            " [2 3 1]\n",
            " [2 2 1]]\n",
            "[[0 3 1]\n",
            " [2 0 0]\n",
            " [1 3 1]\n",
            " [4 2 4]\n",
            " [0 1 2]\n",
            " [2 1 0]\n",
            " [0 3 3]\n",
            " [2 4 0]\n",
            " [2 3 1]\n",
            " [2 2 1]]\n",
            "[[0 3 1]\n",
            " [2 0 0]\n",
            " [1 3 1]\n",
            " [4 2 4]\n",
            " [0 1 2]\n",
            " [2 1 0]\n",
            " [0 3 3]\n",
            " [2 4 0]\n",
            " [2 3 1]\n",
            " [2 2 1]]\n"
          ]
        }
      ],
      "source": [
        "Z = np.random.randint(0,5,(10,3))\n",
        "print(Z)\n",
        "# solution for arrays of all dtypes (including string arrays and record arrays)\n",
        "E = np.all(Z[:,1:] == Z[:,:-1], axis=1)\n",
        "U = Z[~E]\n",
        "print(U)\n",
        "# soluiton for numerical arrays only, will work for any number of columns in Z\n",
        "U = Z[Z.max(axis=1) != Z.min(axis=1),:]\n",
        "print(U)"
      ]
    },
    {
      "cell_type": "markdown",
      "id": "a65ec1cf",
      "metadata": {
        "id": "a65ec1cf"
      },
      "source": [
        "#### 95. Convert a vector of ints into a matrix binary representation (★★★)"
      ]
    },
    {
      "cell_type": "code",
      "execution_count": null,
      "id": "323cdf4c",
      "metadata": {
        "id": "323cdf4c",
        "colab": {
          "base_uri": "https://localhost:8080/"
        },
        "outputId": "7f604d72-cb70-45d3-b817-b0ec800abc61"
      },
      "outputs": [
        {
          "output_type": "stream",
          "name": "stdout",
          "text": [
            "[[0 0 0 0 0 0 0 0]\n",
            " [0 0 0 0 0 0 0 1]\n",
            " [0 0 0 0 0 0 1 0]\n",
            " [0 0 0 0 0 0 1 1]\n",
            " [0 0 0 0 1 1 1 1]\n",
            " [0 0 0 1 0 0 0 0]\n",
            " [0 0 1 0 0 0 0 0]\n",
            " [0 1 0 0 0 0 0 0]\n",
            " [1 0 0 0 0 0 0 0]]\n",
            "[[0 0 0 0 0 0 0 0]\n",
            " [0 0 0 0 0 0 0 1]\n",
            " [0 0 0 0 0 0 1 0]\n",
            " [0 0 0 0 0 0 1 1]\n",
            " [0 0 0 0 1 1 1 1]\n",
            " [0 0 0 1 0 0 0 0]\n",
            " [0 0 1 0 0 0 0 0]\n",
            " [0 1 0 0 0 0 0 0]\n",
            " [1 0 0 0 0 0 0 0]]\n"
          ]
        }
      ],
      "source": [
        "I = np.array([0, 1, 2, 3, 15, 16, 32, 64, 128])\n",
        "B = ((I.reshape(-1,1) & (2**np.arange(8))) != 0).astype(int)\n",
        "print(B[:,::-1])\n",
        "\n",
        "# Author: Daniel T. McDonald\n",
        "\n",
        "I = np.array([0, 1, 2, 3, 15, 16, 32, 64, 128], dtype=np.uint8)\n",
        "print(np.unpackbits(I[:, np.newaxis], axis=1))"
      ]
    },
    {
      "cell_type": "markdown",
      "id": "75b9397f",
      "metadata": {
        "id": "75b9397f"
      },
      "source": [
        "#### 96. Given a two dimensional array, how to extract unique rows? (★★★)"
      ]
    },
    {
      "cell_type": "code",
      "execution_count": null,
      "id": "9bb56a47",
      "metadata": {
        "id": "9bb56a47",
        "colab": {
          "base_uri": "https://localhost:8080/"
        },
        "outputId": "ddd06f52-ba9c-4db9-fb64-614587cda88e"
      },
      "outputs": [
        {
          "output_type": "stream",
          "name": "stdout",
          "text": [
            "[[0 0 1]\n",
            " [1 0 1]\n",
            " [1 1 0]\n",
            " [1 1 1]]\n",
            "[[0 0 1]\n",
            " [1 0 1]\n",
            " [1 1 0]\n",
            " [1 1 1]]\n"
          ]
        }
      ],
      "source": [
        "Z = np.random.randint(0,2,(6,3))\n",
        "T = np.ascontiguousarray(Z).view(np.dtype((np.void, Z.dtype.itemsize * Z.shape[1])))\n",
        "_, idx = np.unique(T, return_index=True)\n",
        "uZ = Z[idx]\n",
        "print(uZ)\n",
        "uZ = np.unique(Z, axis=0)\n",
        "print(uZ)"
      ]
    },
    {
      "cell_type": "markdown",
      "id": "82aaf21b",
      "metadata": {
        "id": "82aaf21b"
      },
      "source": [
        "#### 97. Considering 2 vectors A & B, write the einsum equivalent of inner, outer, sum, and mul function (★★★)"
      ]
    },
    {
      "cell_type": "code",
      "execution_count": null,
      "id": "cedcefd9",
      "metadata": {
        "id": "cedcefd9",
        "colab": {
          "base_uri": "https://localhost:8080/"
        },
        "outputId": "e9d16d52-d4f3-49b2-8a38-ee8606c7182b"
      },
      "outputs": [
        {
          "output_type": "execute_result",
          "data": {
            "text/plain": [
              "array([[0.0800472 , 0.43320666, 0.31330255, 0.29885645, 0.3432142 ,\n",
              "        0.22125355, 0.56047533, 0.01539561, 0.53114219, 0.50849567],\n",
              "       [0.10705696, 0.57938051, 0.419018  , 0.39969747, 0.45902254,\n",
              "        0.29590956, 0.74959254, 0.02059044, 0.71036173, 0.68007375],\n",
              "       [0.01940365, 0.10501045, 0.07594537, 0.0724436 , 0.08319604,\n",
              "        0.05363245, 0.13586071, 0.00373194, 0.12875028, 0.1232607 ],\n",
              "       [0.07347757, 0.39765255, 0.2875892 , 0.27432872, 0.31504595,\n",
              "        0.20309484, 0.51447603, 0.01413206, 0.48755032, 0.46676244],\n",
              "       [0.09263865, 0.50135022, 0.36258515, 0.34586668, 0.39720192,\n",
              "        0.25605681, 0.6486383 , 0.01781734, 0.61469105, 0.58848222],\n",
              "       [0.08671493, 0.46929167, 0.33939986, 0.32375044, 0.37180308,\n",
              "        0.23968341, 0.6071615 , 0.01667802, 0.57538499, 0.55085207],\n",
              "       [0.04434822, 0.24000771, 0.17357773, 0.16557422, 0.19014956,\n",
              "        0.1225802 , 0.31051785, 0.00852956, 0.29426653, 0.28171977],\n",
              "       [0.08024613, 0.43428324, 0.31408115, 0.29959916, 0.34406714,\n",
              "        0.2218034 , 0.5618682 , 0.01543387, 0.53246216, 0.50975936],\n",
              "       [0.07582442, 0.41035347, 0.29677473, 0.28309072, 0.32510844,\n",
              "        0.20958164, 0.53090827, 0.01458343, 0.50312255, 0.48167072],\n",
              "       [0.02296943, 0.12430806, 0.08990174, 0.08575645, 0.09848484,\n",
              "        0.0634884 , 0.16082763, 0.00441775, 0.15241052, 0.14591213]])"
            ]
          },
          "metadata": {},
          "execution_count": 76
        }
      ],
      "source": [
        "A = np.random.uniform(0,1,10)\n",
        "B = np.random.uniform(0,1,10)\n",
        "\n",
        "np.einsum('i->', A)       # np.sum(A)\n",
        "np.einsum('i,i->i', A, B) # A * B\n",
        "np.einsum('i,i', A, B)    # np.inner(A, B)\n",
        "np.einsum('i,j->ij', A, B)    # np.outer(A, B)"
      ]
    },
    {
      "cell_type": "markdown",
      "id": "7741e17f",
      "metadata": {
        "id": "7741e17f"
      },
      "source": [
        "#### 98. Considering a path described by two vectors (X,Y), how to sample it using equidistant samples (★★★)?"
      ]
    },
    {
      "cell_type": "code",
      "execution_count": null,
      "id": "0b2432fe",
      "metadata": {
        "id": "0b2432fe"
      },
      "outputs": [],
      "source": [
        "phi = np.arange(0, 10*np.pi, 0.1)\n",
        "a = 1\n",
        "x = a*phi*np.cos(phi)\n",
        "y = a*phi*np.sin(phi)\n",
        "\n",
        "dr = (np.diff(x)**2 + np.diff(y)**2)**.5 # segment lengths\n",
        "r = np.zeros_like(x)\n",
        "r[1:] = np.cumsum(dr)                # integrate path\n",
        "r_int = np.linspace(0, r.max(), 200) # regular spaced path\n",
        "x_int = np.interp(r_int, r, x)       # integrate path\n",
        "y_int = np.interp(r_int, r, y)"
      ]
    },
    {
      "cell_type": "markdown",
      "id": "340d6f36",
      "metadata": {
        "id": "340d6f36"
      },
      "source": [
        "#### 99. Given an integer n and a 2D array X, select from X the rows which can be interpreted as draws from a multinomial distribution with n degrees, i.e., the rows which only contain integers and which sum to n. (★★★)"
      ]
    },
    {
      "cell_type": "code",
      "execution_count": null,
      "id": "a75323ae",
      "metadata": {
        "id": "a75323ae",
        "colab": {
          "base_uri": "https://localhost:8080/"
        },
        "outputId": "30ecdd7b-5b60-4e58-dcce-fcf08e7a03b8"
      },
      "outputs": [
        {
          "output_type": "stream",
          "name": "stdout",
          "text": [
            "[[2. 0. 1. 1.]]\n"
          ]
        }
      ],
      "source": [
        "X = np.asarray([[1.0, 0.0, 3.0, 8.0],\n",
        "                [2.0, 0.0, 1.0, 1.0],\n",
        "                [1.5, 2.5, 1.0, 0.0]])\n",
        "n = 4\n",
        "M = np.logical_and.reduce(np.mod(X, 1) == 0, axis=-1)\n",
        "M &= (X.sum(axis=-1) == n)\n",
        "print(X[M])"
      ]
    },
    {
      "cell_type": "markdown",
      "id": "19721849",
      "metadata": {
        "id": "19721849"
      },
      "source": [
        "#### 100. Compute bootstrapped 95% confidence intervals for the mean of a 1D array X (i.e., resample the elements of an array with replacement N times, compute the mean of each sample, and then compute percentiles over the means). (★★★)"
      ]
    },
    {
      "cell_type": "code",
      "execution_count": null,
      "id": "87309c6f",
      "metadata": {
        "id": "87309c6f",
        "colab": {
          "base_uri": "https://localhost:8080/"
        },
        "outputId": "36edaa3d-b07c-443b-a903-95ae791a7f51"
      },
      "outputs": [
        {
          "output_type": "stream",
          "name": "stdout",
          "text": [
            "[-0.11507525  0.24353556]\n"
          ]
        }
      ],
      "source": [
        "X = np.random.randn(100) # random 1D array\n",
        "N = 1000 # number of bootstrap samples\n",
        "idx = np.random.randint(0, X.size, (N, X.size))\n",
        "means = X[idx].mean(axis=1)\n",
        "confint = np.percentile(means, [2.5, 97.5])\n",
        "print(confint)"
      ]
    }
  ],
  "metadata": {
    "colab": {
      "provenance": [],
      "collapsed_sections": [
        "cfc46304",
        "0cc200be",
        "29d9ede4",
        "88905ceb",
        "49603e91",
        "e15c249a",
        "157a129c",
        "d92d7b32",
        "f361efc0",
        "475808cb",
        "1af07d85",
        "6a235316",
        "25362e98",
        "6431e977",
        "31abe6fe",
        "fd88b3f4",
        "464d8590",
        "06c63bb3",
        "76fa6285",
        "930ed8bb",
        "177120e7",
        "a6eaf0e8",
        "524b65f8",
        "8dc40752",
        "b7f38e21",
        "2d850aab",
        "5c4a556f",
        "453cdd64",
        "52667b6e",
        "9a8f3738",
        "cab1eed1",
        "cd0ce6b1",
        "c4c942d1",
        "9b3cb8d2",
        "2facfddc",
        "539cd2a5",
        "448f8274",
        "d7b7aaf3",
        "a556027a",
        "004f3da1",
        "1c0adc0d",
        "c8a2f65a",
        "11727a69",
        "e0e7d741",
        "c5611b9e",
        "d22b8574",
        "f5c164f2",
        "a8b7e6f5",
        "c6b32834",
        "a2121a05",
        "97055efa",
        "bfd2513c",
        "da9f2f9b",
        "5b7be45c",
        "7c18c02e",
        "8174ba2c",
        "9189bd7c",
        "f30162d2",
        "f5b1c584",
        "994c452d",
        "4bddeb31",
        "c4cf083c",
        "a5e316db",
        "de727a7b",
        "a9a73d6b",
        "a951c78f",
        "43b639e8",
        "d41de585",
        "b50adf7c",
        "1ab4c50d",
        "5b4fe59d",
        "119ab5af",
        "e5e7f323",
        "9b9d03eb",
        "27794913",
        "fae786f5",
        "c85aa0b9",
        "0ff2344d",
        "1a18b263",
        "f85f2cad",
        "5afb72c8",
        "6094d37c",
        "a173cf96",
        "15db2d01",
        "5d94d1ef",
        "114ccc36",
        "d614fee4",
        "b0eedca6",
        "a65ec1cf",
        "75b9397f",
        "82aaf21b",
        "7741e17f",
        "340d6f36",
        "19721849"
      ],
      "include_colab_link": true
    },
    "language_info": {
      "name": "python"
    },
    "kernelspec": {
      "name": "python3",
      "display_name": "Python 3"
    }
  },
  "nbformat": 4,
  "nbformat_minor": 5
}